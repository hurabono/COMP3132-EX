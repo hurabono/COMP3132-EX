{
  "cells": [
    {
      "cell_type": "markdown",
      "metadata": {
        "id": "-KZ3H6cPHW_l"
      },
      "source": [
        " ## Lab - Week 10 - Dropout"
      ]
    },
    {
      "cell_type": "markdown",
      "metadata": {
        "id": "n1Gyq07MHW_n"
      },
      "source": [
        "### Ways to reduce overfitting in neural networks - all come at a cost\n",
        " - Getting more training data\n",
        " - Reducing the capacity of the network (last week's lab)\n",
        " - Adding weight regularization (last week's lab)\n",
        " - Adding dropout (the subject for this week)"
      ]
    },
    {
      "cell_type": "markdown",
      "metadata": {
        "id": "U2LCwW3jHW_n"
      },
      "source": [
        "### Typical training and validation loss over time\n",
        "![](https://miro.medium.com/v2/resize:fit:720/format:webp/1*0VWDpLIRcMTssDf-zyOR4w.jpeg)"
      ]
    },
    {
      "cell_type": "markdown",
      "metadata": {
        "id": "PKIcK30CHW_o"
      },
      "source": [
        "## Using dropout to reduce overfitting\n",
        "\n",
        "Dropout is one of the most effective and most commonly used regularization techniques for neural networks, developed by Hinton and his\n",
        "students at the University of Toronto. Dropout, applied to a layer, consists of randomly \"dropping out\" (i.e. setting to zero) a number of\n",
        "output features of the layer during training. Let's say a given layer would normally have returned a vector `[0.2, 0.5, 1.3, 0.8, 1.1]` for a\n",
        "given input sample during training; after applying dropout, this vector will have a few zero entries distributed at random, e.g. `[0, 0.5,\n",
        "1.3, 0, 1.1]`. The \"dropout rate\" is the fraction of the features that are being zeroed-out; it is usually set between 0.2 and 0.5. At test\n",
        "time, no units are dropped out, and instead the layer's output values are scaled down by a factor equal to the dropout rate, so as to\n",
        "balance for the fact that more units are active than at training time.\n",
        "\n",
        "![dropout](https://cdn-images-1.medium.com/max/1600/1*iWQzxhVlvadk6VAJjsgXgg.png)"
      ]
    },
    {
      "cell_type": "markdown",
      "metadata": {
        "id": "uOzUdFTjHW_o"
      },
      "source": [
        "In Keras you can introduce dropout in a network via the `Dropout` layer, which gets applied to the output of layer right before it, e.g.:\n",
        "```python\n",
        "model.add(layers.Dropout(0.5))\n",
        "```"
      ]
    },
    {
      "cell_type": "code",
      "execution_count": 12,
      "metadata": {
        "colab": {
          "base_uri": "https://localhost:8080/",
          "height": 35
        },
        "id": "gu2eabBMHW_o",
        "outputId": "5dd329fe-d2fe-4bb5-aa3f-d46843995bb8"
      },
      "outputs": [
        {
          "output_type": "execute_result",
          "data": {
            "text/plain": [
              "'3.8.0'"
            ],
            "application/vnd.google.colaboratory.intrinsic+json": {
              "type": "string"
            }
          },
          "metadata": {},
          "execution_count": 12
        }
      ],
      "source": [
        "import keras\n",
        "keras.__version__"
      ]
    },
    {
      "cell_type": "markdown",
      "metadata": {
        "id": "WkIaFw9JHW_p"
      },
      "source": [
        "### Part 1: Load and Prepare Data - IMDB dataset (same as last week)"
      ]
    },
    {
      "cell_type": "code",
      "execution_count": 11,
      "metadata": {
        "id": "vCDzp-x2HW_p",
        "outputId": "5121ac6c-b266-4260-89e6-43de85a5b707",
        "colab": {
          "base_uri": "https://localhost:8080/"
        }
      },
      "outputs": [
        {
          "output_type": "stream",
          "name": "stdout",
          "text": [
            "Downloading data from https://storage.googleapis.com/tensorflow/tf-keras-datasets/imdb.npz\n",
            "\u001b[1m17464789/17464789\u001b[0m \u001b[32m━━━━━━━━━━━━━━━━━━━━\u001b[0m\u001b[37m\u001b[0m \u001b[1m1s\u001b[0m 0us/step\n"
          ]
        }
      ],
      "source": [
        "from keras import models\n",
        "from keras import layers\n",
        "from keras.datasets import imdb\n",
        "import numpy as np\n",
        "\n",
        "(train_data, train_labels), (test_data, test_labels) = imdb.load_data(num_words=10000)\n",
        "\n",
        "def vectorize_sequences(sequences, dimension=10000):\n",
        "    # Create an all-zero matrix of shape (len(sequences), dimension)\n",
        "    results = np.zeros((len(sequences), dimension))\n",
        "    for i, sequence in enumerate(sequences):\n",
        "      for j in sequence:\n",
        "        results[i, j] = 1.  # set specific indices of results[i] to 1s\n",
        "    return results\n",
        "\n",
        "# Our vectorized training data\n",
        "x_train = vectorize_sequences(train_data)\n",
        "# Our vectorized test data\n",
        "x_test = vectorize_sequences(test_data)\n",
        "# Our vectorized labels\n",
        "y_train = np.asarray(train_labels).astype('float32')\n",
        "y_test = np.asarray(test_labels).astype('float32')"
      ]
    },
    {
      "cell_type": "markdown",
      "source": [
        "**As a routine, perform a sanity check on the dataset to understand the shape of the train and test inputs and outputs, and print out a sample of the data.**"
      ],
      "metadata": {
        "id": "6mcnHGpPI4RT"
      }
    },
    {
      "cell_type": "code",
      "source": [
        "#TODO\n",
        "#your code here\n",
        "\n",
        "print(\"x_train shape:\", x_train.shape)  # (25000, 10000)\n",
        "print(\"x_test shape:\", x_test.shape)    # (25000, 10000)\n",
        "print(\"y_train shape:\", y_train.shape)\n",
        "print(\"y_test shape:\", y_test.shape)\n",
        "print(\"첫 번째 리뷰 벡터 (일부):\", x_train[0][:20])  # 벡터의 앞부분 출력\n",
        "print(\"첫 번째 리뷰 라벨:\", y_train[0])"
      ],
      "metadata": {
        "id": "Gs8Hv3noI4wp",
        "outputId": "140497fa-8eb7-4686-92ff-8b6ff45efbfc",
        "colab": {
          "base_uri": "https://localhost:8080/"
        }
      },
      "execution_count": 13,
      "outputs": [
        {
          "output_type": "stream",
          "name": "stdout",
          "text": [
            "x_train shape: (25000, 10000)\n",
            "x_test shape: (25000, 10000)\n",
            "y_train shape: (25000,)\n",
            "y_test shape: (25000,)\n",
            "첫 번째 리뷰 벡터 (일부): [0. 1. 1. 0. 1. 1. 1. 1. 1. 1. 0. 0. 1. 1. 1. 1. 1. 1. 1. 1.]\n",
            "첫 번째 리뷰 라벨: 1.0\n"
          ]
        }
      ]
    },
    {
      "cell_type": "markdown",
      "metadata": {
        "id": "226Ka3mbHW_q"
      },
      "source": [
        "### Part 2: Build a Simple Neural Network Model\n",
        "Objective: Create a basic neural network model using Keras.\n",
        "\n",
        "**Questions**\n",
        "- What type of classification problem are we solving?\n",
        "- How many neurons should there be in the output layer?\n",
        "- What should be the activation function of the output layer?\n",
        "- What loss function should be used?\n",
        "- What activation function should be used on the hidden layers?\n",
        "\n",
        "\n",
        "Build a sequential model with ne dense layer with 8 units and train it for 20 epochs.\n",
        "\n",
        "Complete the code below:"
      ]
    },
    {
      "cell_type": "code",
      "execution_count": 14,
      "metadata": {
        "id": "okbbHS6BHW_q",
        "outputId": "99cafbe9-dae8-4385-f738-9a712d9b9d92",
        "colab": {
          "base_uri": "https://localhost:8080/",
          "height": 1000
        }
      },
      "outputs": [
        {
          "output_type": "stream",
          "name": "stderr",
          "text": [
            "/usr/local/lib/python3.11/dist-packages/keras/src/layers/core/dense.py:87: UserWarning: Do not pass an `input_shape`/`input_dim` argument to a layer. When using Sequential models, prefer using an `Input(shape)` object as the first layer in the model instead.\n",
            "  super().__init__(activity_regularizer=activity_regularizer, **kwargs)\n"
          ]
        },
        {
          "output_type": "display_data",
          "data": {
            "text/plain": [
              "\u001b[1mModel: \"sequential\"\u001b[0m\n"
            ],
            "text/html": [
              "<pre style=\"white-space:pre;overflow-x:auto;line-height:normal;font-family:Menlo,'DejaVu Sans Mono',consolas,'Courier New',monospace\"><span style=\"font-weight: bold\">Model: \"sequential\"</span>\n",
              "</pre>\n"
            ]
          },
          "metadata": {}
        },
        {
          "output_type": "display_data",
          "data": {
            "text/plain": [
              "┏━━━━━━━━━━━━━━━━━━━━━━━━━━━━━━━━━━━━━━┳━━━━━━━━━━━━━━━━━━━━━━━━━━━━━┳━━━━━━━━━━━━━━━━━┓\n",
              "┃\u001b[1m \u001b[0m\u001b[1mLayer (type)                        \u001b[0m\u001b[1m \u001b[0m┃\u001b[1m \u001b[0m\u001b[1mOutput Shape               \u001b[0m\u001b[1m \u001b[0m┃\u001b[1m \u001b[0m\u001b[1m        Param #\u001b[0m\u001b[1m \u001b[0m┃\n",
              "┡━━━━━━━━━━━━━━━━━━━━━━━━━━━━━━━━━━━━━━╇━━━━━━━━━━━━━━━━━━━━━━━━━━━━━╇━━━━━━━━━━━━━━━━━┩\n",
              "│ dense (\u001b[38;5;33mDense\u001b[0m)                        │ (\u001b[38;5;45mNone\u001b[0m, \u001b[38;5;34m8\u001b[0m)                   │          \u001b[38;5;34m80,008\u001b[0m │\n",
              "├──────────────────────────────────────┼─────────────────────────────┼─────────────────┤\n",
              "│ dense_1 (\u001b[38;5;33mDense\u001b[0m)                      │ (\u001b[38;5;45mNone\u001b[0m, \u001b[38;5;34m1\u001b[0m)                   │               \u001b[38;5;34m9\u001b[0m │\n",
              "└──────────────────────────────────────┴─────────────────────────────┴─────────────────┘\n"
            ],
            "text/html": [
              "<pre style=\"white-space:pre;overflow-x:auto;line-height:normal;font-family:Menlo,'DejaVu Sans Mono',consolas,'Courier New',monospace\">┏━━━━━━━━━━━━━━━━━━━━━━━━━━━━━━━━━━━━━━┳━━━━━━━━━━━━━━━━━━━━━━━━━━━━━┳━━━━━━━━━━━━━━━━━┓\n",
              "┃<span style=\"font-weight: bold\"> Layer (type)                         </span>┃<span style=\"font-weight: bold\"> Output Shape                </span>┃<span style=\"font-weight: bold\">         Param # </span>┃\n",
              "┡━━━━━━━━━━━━━━━━━━━━━━━━━━━━━━━━━━━━━━╇━━━━━━━━━━━━━━━━━━━━━━━━━━━━━╇━━━━━━━━━━━━━━━━━┩\n",
              "│ dense (<span style=\"color: #0087ff; text-decoration-color: #0087ff\">Dense</span>)                        │ (<span style=\"color: #00d7ff; text-decoration-color: #00d7ff\">None</span>, <span style=\"color: #00af00; text-decoration-color: #00af00\">8</span>)                   │          <span style=\"color: #00af00; text-decoration-color: #00af00\">80,008</span> │\n",
              "├──────────────────────────────────────┼─────────────────────────────┼─────────────────┤\n",
              "│ dense_1 (<span style=\"color: #0087ff; text-decoration-color: #0087ff\">Dense</span>)                      │ (<span style=\"color: #00d7ff; text-decoration-color: #00d7ff\">None</span>, <span style=\"color: #00af00; text-decoration-color: #00af00\">1</span>)                   │               <span style=\"color: #00af00; text-decoration-color: #00af00\">9</span> │\n",
              "└──────────────────────────────────────┴─────────────────────────────┴─────────────────┘\n",
              "</pre>\n"
            ]
          },
          "metadata": {}
        },
        {
          "output_type": "display_data",
          "data": {
            "text/plain": [
              "\u001b[1m Total params: \u001b[0m\u001b[38;5;34m80,017\u001b[0m (312.57 KB)\n"
            ],
            "text/html": [
              "<pre style=\"white-space:pre;overflow-x:auto;line-height:normal;font-family:Menlo,'DejaVu Sans Mono',consolas,'Courier New',monospace\"><span style=\"font-weight: bold\"> Total params: </span><span style=\"color: #00af00; text-decoration-color: #00af00\">80,017</span> (312.57 KB)\n",
              "</pre>\n"
            ]
          },
          "metadata": {}
        },
        {
          "output_type": "display_data",
          "data": {
            "text/plain": [
              "\u001b[1m Trainable params: \u001b[0m\u001b[38;5;34m80,017\u001b[0m (312.57 KB)\n"
            ],
            "text/html": [
              "<pre style=\"white-space:pre;overflow-x:auto;line-height:normal;font-family:Menlo,'DejaVu Sans Mono',consolas,'Courier New',monospace\"><span style=\"font-weight: bold\"> Trainable params: </span><span style=\"color: #00af00; text-decoration-color: #00af00\">80,017</span> (312.57 KB)\n",
              "</pre>\n"
            ]
          },
          "metadata": {}
        },
        {
          "output_type": "display_data",
          "data": {
            "text/plain": [
              "\u001b[1m Non-trainable params: \u001b[0m\u001b[38;5;34m0\u001b[0m (0.00 B)\n"
            ],
            "text/html": [
              "<pre style=\"white-space:pre;overflow-x:auto;line-height:normal;font-family:Menlo,'DejaVu Sans Mono',consolas,'Courier New',monospace\"><span style=\"font-weight: bold\"> Non-trainable params: </span><span style=\"color: #00af00; text-decoration-color: #00af00\">0</span> (0.00 B)\n",
              "</pre>\n"
            ]
          },
          "metadata": {}
        },
        {
          "output_type": "stream",
          "name": "stdout",
          "text": [
            "Epoch 1/20\n",
            "\u001b[1m49/49\u001b[0m \u001b[32m━━━━━━━━━━━━━━━━━━━━\u001b[0m\u001b[37m\u001b[0m \u001b[1m10s\u001b[0m 172ms/step - accuracy: 0.7156 - loss: 0.5920 - val_accuracy: 0.8656 - val_loss: 0.3936\n",
            "Epoch 2/20\n",
            "\u001b[1m49/49\u001b[0m \u001b[32m━━━━━━━━━━━━━━━━━━━━\u001b[0m\u001b[37m\u001b[0m \u001b[1m4s\u001b[0m 52ms/step - accuracy: 0.8947 - loss: 0.3291 - val_accuracy: 0.8849 - val_loss: 0.3130\n",
            "Epoch 3/20\n",
            "\u001b[1m49/49\u001b[0m \u001b[32m━━━━━━━━━━━━━━━━━━━━\u001b[0m\u001b[37m\u001b[0m \u001b[1m3s\u001b[0m 53ms/step - accuracy: 0.9242 - loss: 0.2422 - val_accuracy: 0.8874 - val_loss: 0.2916\n",
            "Epoch 4/20\n",
            "\u001b[1m49/49\u001b[0m \u001b[32m━━━━━━━━━━━━━━━━━━━━\u001b[0m\u001b[37m\u001b[0m \u001b[1m4s\u001b[0m 89ms/step - accuracy: 0.9367 - loss: 0.2010 - val_accuracy: 0.8876 - val_loss: 0.2846\n",
            "Epoch 5/20\n",
            "\u001b[1m49/49\u001b[0m \u001b[32m━━━━━━━━━━━━━━━━━━━━\u001b[0m\u001b[37m\u001b[0m \u001b[1m3s\u001b[0m 44ms/step - accuracy: 0.9445 - loss: 0.1787 - val_accuracy: 0.8857 - val_loss: 0.2857\n",
            "Epoch 6/20\n",
            "\u001b[1m49/49\u001b[0m \u001b[32m━━━━━━━━━━━━━━━━━━━━\u001b[0m\u001b[37m\u001b[0m \u001b[1m3s\u001b[0m 53ms/step - accuracy: 0.9558 - loss: 0.1535 - val_accuracy: 0.8851 - val_loss: 0.2888\n",
            "Epoch 7/20\n",
            "\u001b[1m49/49\u001b[0m \u001b[32m━━━━━━━━━━━━━━━━━━━━\u001b[0m\u001b[37m\u001b[0m \u001b[1m5s\u001b[0m 48ms/step - accuracy: 0.9573 - loss: 0.1432 - val_accuracy: 0.8809 - val_loss: 0.2970\n",
            "Epoch 8/20\n",
            "\u001b[1m49/49\u001b[0m \u001b[32m━━━━━━━━━━━━━━━━━━━━\u001b[0m\u001b[37m\u001b[0m \u001b[1m2s\u001b[0m 35ms/step - accuracy: 0.9634 - loss: 0.1273 - val_accuracy: 0.8799 - val_loss: 0.3031\n",
            "Epoch 9/20\n",
            "\u001b[1m49/49\u001b[0m \u001b[32m━━━━━━━━━━━━━━━━━━━━\u001b[0m\u001b[37m\u001b[0m \u001b[1m2s\u001b[0m 33ms/step - accuracy: 0.9672 - loss: 0.1173 - val_accuracy: 0.8771 - val_loss: 0.3160\n",
            "Epoch 10/20\n",
            "\u001b[1m49/49\u001b[0m \u001b[32m━━━━━━━━━━━━━━━━━━━━\u001b[0m\u001b[37m\u001b[0m \u001b[1m3s\u001b[0m 49ms/step - accuracy: 0.9714 - loss: 0.1075 - val_accuracy: 0.8762 - val_loss: 0.3231\n",
            "Epoch 11/20\n",
            "\u001b[1m49/49\u001b[0m \u001b[32m━━━━━━━━━━━━━━━━━━━━\u001b[0m\u001b[37m\u001b[0m \u001b[1m2s\u001b[0m 43ms/step - accuracy: 0.9719 - loss: 0.1014 - val_accuracy: 0.8737 - val_loss: 0.3312\n",
            "Epoch 12/20\n",
            "\u001b[1m49/49\u001b[0m \u001b[32m━━━━━━━━━━━━━━━━━━━━\u001b[0m\u001b[37m\u001b[0m \u001b[1m2s\u001b[0m 35ms/step - accuracy: 0.9766 - loss: 0.0923 - val_accuracy: 0.8721 - val_loss: 0.3426\n",
            "Epoch 13/20\n",
            "\u001b[1m49/49\u001b[0m \u001b[32m━━━━━━━━━━━━━━━━━━━━\u001b[0m\u001b[37m\u001b[0m \u001b[1m2s\u001b[0m 33ms/step - accuracy: 0.9751 - loss: 0.0894 - val_accuracy: 0.8707 - val_loss: 0.3556\n",
            "Epoch 14/20\n",
            "\u001b[1m49/49\u001b[0m \u001b[32m━━━━━━━━━━━━━━━━━━━━\u001b[0m\u001b[37m\u001b[0m \u001b[1m4s\u001b[0m 55ms/step - accuracy: 0.9814 - loss: 0.0792 - val_accuracy: 0.8698 - val_loss: 0.3653\n",
            "Epoch 15/20\n",
            "\u001b[1m49/49\u001b[0m \u001b[32m━━━━━━━━━━━━━━━━━━━━\u001b[0m\u001b[37m\u001b[0m \u001b[1m3s\u001b[0m 55ms/step - accuracy: 0.9840 - loss: 0.0733 - val_accuracy: 0.8675 - val_loss: 0.3789\n",
            "Epoch 16/20\n",
            "\u001b[1m49/49\u001b[0m \u001b[32m━━━━━━━━━━━━━━━━━━━━\u001b[0m\u001b[37m\u001b[0m \u001b[1m2s\u001b[0m 45ms/step - accuracy: 0.9837 - loss: 0.0704 - val_accuracy: 0.8667 - val_loss: 0.3905\n",
            "Epoch 17/20\n",
            "\u001b[1m49/49\u001b[0m \u001b[32m━━━━━━━━━━━━━━━━━━━━\u001b[0m\u001b[37m\u001b[0m \u001b[1m2s\u001b[0m 35ms/step - accuracy: 0.9878 - loss: 0.0643 - val_accuracy: 0.8648 - val_loss: 0.4052\n",
            "Epoch 18/20\n",
            "\u001b[1m49/49\u001b[0m \u001b[32m━━━━━━━━━━━━━━━━━━━━\u001b[0m\u001b[37m\u001b[0m \u001b[1m2s\u001b[0m 33ms/step - accuracy: 0.9894 - loss: 0.0579 - val_accuracy: 0.8638 - val_loss: 0.4158\n",
            "Epoch 19/20\n",
            "\u001b[1m49/49\u001b[0m \u001b[32m━━━━━━━━━━━━━━━━━━━━\u001b[0m\u001b[37m\u001b[0m \u001b[1m3s\u001b[0m 34ms/step - accuracy: 0.9893 - loss: 0.0568 - val_accuracy: 0.8632 - val_loss: 0.4289\n",
            "Epoch 20/20\n",
            "\u001b[1m49/49\u001b[0m \u001b[32m━━━━━━━━━━━━━━━━━━━━\u001b[0m\u001b[37m\u001b[0m \u001b[1m2s\u001b[0m 35ms/step - accuracy: 0.9909 - loss: 0.0529 - val_accuracy: 0.8620 - val_loss: 0.4428\n",
            "\u001b[1m782/782\u001b[0m \u001b[32m━━━━━━━━━━━━━━━━━━━━\u001b[0m\u001b[37m\u001b[0m \u001b[1m2s\u001b[0m 3ms/step - accuracy: 0.8626 - loss: 0.4446\n",
            "Test accuracy: 0.8620399832725525\n"
          ]
        }
      ],
      "source": [
        "# TODO fix this code\n",
        "  # Add a single hidden layer with 8 units and proper activation\n",
        "  # Compile the model with an appropriate optimizer, loss function, and evaluation metric.\n",
        "  # Show the summary of the model\n",
        "\n",
        "# 모델 구성\n",
        "model = models.Sequential()\n",
        "\n",
        "# 첫 번째 은닉층: 입력 차원은 10000, 8개의 뉴런, ReLU 활성화 함수\n",
        "model.add(layers.Dense(8, activation='relu', input_shape=(10000,)))\n",
        "\n",
        "# 출력층: 1개의 뉴런, Sigmoid 활성화 함수\n",
        "model.add(layers.Dense(1, activation='sigmoid'))\n",
        "\n",
        "# 모델 컴파일: optimizer, 손실 함수, 평가지표(accuracy) 설정\n",
        "model.compile(optimizer='adam', loss='binary_crossentropy', metrics=['accuracy'])\n",
        "\n",
        "# 모델 요약 정보 출력\n",
        "model.summary()\n",
        "\n",
        "# 모델 학습\n",
        "hist_a = model.fit(x_train, y_train, epochs=20, batch_size=512, validation_data=(x_test, y_test))\n",
        "\n",
        "# 모델 평가\n",
        "evaluation_results = model.evaluate(x_test, y_test)\n",
        "print(\"Test accuracy:\", evaluation_results[1])\n",
        "\n"
      ]
    },
    {
      "cell_type": "code",
      "source": [
        "# Train the model\n",
        "hist_a = model.fit(x_train, y_train, epochs=20, batch_size=512, validation_data=(x_test, y_test))\n",
        "\n",
        "# Evaluate the model\n",
        "evaluation_results = model.evaluate(x_test, y_test)\n",
        "print(\"Test accuracy:\", evaluation_results[1])\n"
      ],
      "metadata": {
        "id": "M-7eT3thJ6LD",
        "outputId": "4aa0e01d-eeba-4214-8f2b-c4da4bc82c01",
        "colab": {
          "base_uri": "https://localhost:8080/"
        }
      },
      "execution_count": 15,
      "outputs": [
        {
          "output_type": "stream",
          "name": "stdout",
          "text": [
            "Epoch 1/20\n",
            "\u001b[1m49/49\u001b[0m \u001b[32m━━━━━━━━━━━━━━━━━━━━\u001b[0m\u001b[37m\u001b[0m \u001b[1m4s\u001b[0m 73ms/step - accuracy: 0.9929 - loss: 0.0489 - val_accuracy: 0.8610 - val_loss: 0.4554\n",
            "Epoch 2/20\n",
            "\u001b[1m49/49\u001b[0m \u001b[32m━━━━━━━━━━━━━━━━━━━━\u001b[0m\u001b[37m\u001b[0m \u001b[1m2s\u001b[0m 34ms/step - accuracy: 0.9932 - loss: 0.0460 - val_accuracy: 0.8593 - val_loss: 0.4715\n",
            "Epoch 3/20\n",
            "\u001b[1m49/49\u001b[0m \u001b[32m━━━━━━━━━━━━━━━━━━━━\u001b[0m\u001b[37m\u001b[0m \u001b[1m3s\u001b[0m 35ms/step - accuracy: 0.9934 - loss: 0.0435 - val_accuracy: 0.8582 - val_loss: 0.4839\n",
            "Epoch 4/20\n",
            "\u001b[1m49/49\u001b[0m \u001b[32m━━━━━━━━━━━━━━━━━━━━\u001b[0m\u001b[37m\u001b[0m \u001b[1m3s\u001b[0m 61ms/step - accuracy: 0.9952 - loss: 0.0392 - val_accuracy: 0.8572 - val_loss: 0.4993\n",
            "Epoch 5/20\n",
            "\u001b[1m49/49\u001b[0m \u001b[32m━━━━━━━━━━━━━━━━━━━━\u001b[0m\u001b[37m\u001b[0m \u001b[1m2s\u001b[0m 36ms/step - accuracy: 0.9945 - loss: 0.0374 - val_accuracy: 0.8568 - val_loss: 0.5107\n",
            "Epoch 6/20\n",
            "\u001b[1m49/49\u001b[0m \u001b[32m━━━━━━━━━━━━━━━━━━━━\u001b[0m\u001b[37m\u001b[0m \u001b[1m2s\u001b[0m 35ms/step - accuracy: 0.9958 - loss: 0.0350 - val_accuracy: 0.8562 - val_loss: 0.5249\n",
            "Epoch 7/20\n",
            "\u001b[1m49/49\u001b[0m \u001b[32m━━━━━━━━━━━━━━━━━━━━\u001b[0m\u001b[37m\u001b[0m \u001b[1m2s\u001b[0m 34ms/step - accuracy: 0.9956 - loss: 0.0326 - val_accuracy: 0.8561 - val_loss: 0.5379\n",
            "Epoch 8/20\n",
            "\u001b[1m49/49\u001b[0m \u001b[32m━━━━━━━━━━━━━━━━━━━━\u001b[0m\u001b[37m\u001b[0m \u001b[1m3s\u001b[0m 35ms/step - accuracy: 0.9961 - loss: 0.0319 - val_accuracy: 0.8542 - val_loss: 0.5590\n",
            "Epoch 9/20\n",
            "\u001b[1m49/49\u001b[0m \u001b[32m━━━━━━━━━━━━━━━━━━━━\u001b[0m\u001b[37m\u001b[0m \u001b[1m3s\u001b[0m 52ms/step - accuracy: 0.9974 - loss: 0.0283 - val_accuracy: 0.8542 - val_loss: 0.5678\n",
            "Epoch 10/20\n",
            "\u001b[1m49/49\u001b[0m \u001b[32m━━━━━━━━━━━━━━━━━━━━\u001b[0m\u001b[37m\u001b[0m \u001b[1m2s\u001b[0m 41ms/step - accuracy: 0.9969 - loss: 0.0280 - val_accuracy: 0.8532 - val_loss: 0.5847\n",
            "Epoch 11/20\n",
            "\u001b[1m49/49\u001b[0m \u001b[32m━━━━━━━━━━━━━━━━━━━━\u001b[0m\u001b[37m\u001b[0m \u001b[1m2s\u001b[0m 36ms/step - accuracy: 0.9979 - loss: 0.0244 - val_accuracy: 0.8532 - val_loss: 0.5951\n",
            "Epoch 12/20\n",
            "\u001b[1m49/49\u001b[0m \u001b[32m━━━━━━━━━━━━━━━━━━━━\u001b[0m\u001b[37m\u001b[0m \u001b[1m2s\u001b[0m 34ms/step - accuracy: 0.9980 - loss: 0.0245 - val_accuracy: 0.8524 - val_loss: 0.6129\n",
            "Epoch 13/20\n",
            "\u001b[1m49/49\u001b[0m \u001b[32m━━━━━━━━━━━━━━━━━━━━\u001b[0m\u001b[37m\u001b[0m \u001b[1m2s\u001b[0m 35ms/step - accuracy: 0.9984 - loss: 0.0227 - val_accuracy: 0.8518 - val_loss: 0.6234\n",
            "Epoch 14/20\n",
            "\u001b[1m49/49\u001b[0m \u001b[32m━━━━━━━━━━━━━━━━━━━━\u001b[0m\u001b[37m\u001b[0m \u001b[1m3s\u001b[0m 48ms/step - accuracy: 0.9988 - loss: 0.0203 - val_accuracy: 0.8517 - val_loss: 0.6359\n",
            "Epoch 15/20\n",
            "\u001b[1m49/49\u001b[0m \u001b[32m━━━━━━━━━━━━━━━━━━━━\u001b[0m\u001b[37m\u001b[0m \u001b[1m2s\u001b[0m 45ms/step - accuracy: 0.9986 - loss: 0.0196 - val_accuracy: 0.8509 - val_loss: 0.6489\n",
            "Epoch 16/20\n",
            "\u001b[1m49/49\u001b[0m \u001b[32m━━━━━━━━━━━━━━━━━━━━\u001b[0m\u001b[37m\u001b[0m \u001b[1m2s\u001b[0m 35ms/step - accuracy: 0.9992 - loss: 0.0178 - val_accuracy: 0.8506 - val_loss: 0.6610\n",
            "Epoch 17/20\n",
            "\u001b[1m49/49\u001b[0m \u001b[32m━━━━━━━━━━━━━━━━━━━━\u001b[0m\u001b[37m\u001b[0m \u001b[1m2s\u001b[0m 33ms/step - accuracy: 0.9995 - loss: 0.0167 - val_accuracy: 0.8504 - val_loss: 0.6745\n",
            "Epoch 18/20\n",
            "\u001b[1m49/49\u001b[0m \u001b[32m━━━━━━━━━━━━━━━━━━━━\u001b[0m\u001b[37m\u001b[0m \u001b[1m3s\u001b[0m 36ms/step - accuracy: 0.9994 - loss: 0.0162 - val_accuracy: 0.8498 - val_loss: 0.6901\n",
            "Epoch 19/20\n",
            "\u001b[1m49/49\u001b[0m \u001b[32m━━━━━━━━━━━━━━━━━━━━\u001b[0m\u001b[37m\u001b[0m \u001b[1m2s\u001b[0m 35ms/step - accuracy: 0.9995 - loss: 0.0151 - val_accuracy: 0.8503 - val_loss: 0.6977\n",
            "Epoch 20/20\n",
            "\u001b[1m49/49\u001b[0m \u001b[32m━━━━━━━━━━━━━━━━━━━━\u001b[0m\u001b[37m\u001b[0m \u001b[1m2s\u001b[0m 49ms/step - accuracy: 0.9996 - loss: 0.0146 - val_accuracy: 0.8494 - val_loss: 0.7157\n",
            "\u001b[1m782/782\u001b[0m \u001b[32m━━━━━━━━━━━━━━━━━━━━\u001b[0m\u001b[37m\u001b[0m \u001b[1m2s\u001b[0m 2ms/step - accuracy: 0.8516 - loss: 0.7139\n",
            "Test accuracy: 0.8494399785995483\n"
          ]
        }
      ]
    },
    {
      "cell_type": "markdown",
      "metadata": {
        "id": "zEQ_YfNAHW_q"
      },
      "source": [
        "### Part 3: Visualize Training and Validation Performance\n",
        "\n",
        "The function below can be used later to plot the loss and accuracy from the model training history"
      ]
    },
    {
      "cell_type": "code",
      "execution_count": null,
      "metadata": {
        "id": "SrGvjNLIHW_q"
      },
      "outputs": [],
      "source": [
        "# Helper function\n",
        "\n",
        "import matplotlib.pyplot as plt\n",
        "\n",
        "# colors will be used to plot the different models below\n",
        "colors = ['blue', 'red', 'green', 'purple', 'orange', 'brown', 'pink', 'gray', 'olive', 'cyan']\n",
        "\n",
        "def plot_history(history, color='blue', prefix=\"\"):\n",
        "    history_dict = history.history\n",
        "    loss_values = history_dict[\"loss\"]\n",
        "    val_loss_values = history_dict[\"val_loss\"]\n",
        "    epochs = range(1, len(loss_values) + 1)\n",
        "\n",
        "    # 손실값 그래프\n",
        "    plt.subplot(1, 2, 1)\n",
        "    plt.plot(epochs, loss_values, \"o\", color=color, label=prefix + \" Training loss\")\n",
        "    plt.plot(epochs, val_loss_values, color=color, label=prefix + \" Validation loss\")\n",
        "    plt.title(\"Training and validation loss\")\n",
        "    plt.xlabel(\"Epochs\")\n",
        "    plt.ylabel(\"Loss\")\n",
        "    plt.legend(framealpha=0.5)\n",
        "    plt.grid()\n",
        "\n",
        "    # 정확도 그래프 (검증 정확도만 표시)\n",
        "    plt.subplot(1, 2, 2)\n",
        "    acc_values = history_dict.get(\"accuracy\") or history_dict.get(\"acc\")  # keras 버전에 따라 다름\n",
        "    val_acc_values = history_dict.get(\"val_accuracy\") or history_dict.get(\"val_acc\")\n",
        "    plt.plot(epochs, val_acc_values, color=color, label=prefix + \" Validation accuracy\")\n",
        "    plt.title(\"Training and validation accuracy\")\n",
        "    plt.xlabel(\"Epochs\")\n",
        "    plt.ylabel(\"Accuracy\")\n",
        "    plt.legend(framealpha=0.5)\n",
        "    plt.grid()\n"
      ]
    },
    {
      "cell_type": "code",
      "execution_count": null,
      "metadata": {
        "id": "EPO6BKToHW_q"
      },
      "outputs": [],
      "source": [
        "# Using the plotting function\n",
        "plt.figure(figsize=(12, 6))\n",
        "plot_history(hist_a, color='blue', prefix=\"Small model\")\n",
        "plt.show()"
      ]
    },
    {
      "cell_type": "markdown",
      "metadata": {
        "id": "2KOazn4UHW_r"
      },
      "source": [
        "### Part 4: Add Dropout Regularization\n",
        "Objective: Experiment with dropout layers in the model.\n",
        "\n",
        "**Instructions:**\n",
        "1. Add another hidden layer with 8 units\n",
        "1. Add dropout layers after each hidden layer with a dropout rate of 0.3.\n",
        "1. Compile the model.\n",
        "1. Train the model and observe the changes in accuracy.\n",
        "\n",
        "Complete the code below:"
      ]
    },
    {
      "cell_type": "code",
      "execution_count": null,
      "metadata": {
        "id": "5dSj5KXAHW_r"
      },
      "outputs": [],
      "source": [
        "# TODO: Build a model with 30% Dropout\n",
        "\n",
        "drp_model = models.Sequential()\n",
        "drp_model.add(layers.Dense(8, activation='relu', input_shape=(10000,)))\n",
        "drp_model.add(layers.Dropout(0.3))  # 첫 번째 은닉층 후 Dropout (30%)\n",
        "drp_model.add(layers.Dense(8, activation='relu'))\n",
        "drp_model.add(layers.Dropout(0.3))  # 두 번째 은닉층 후 Dropout (30%)\n",
        "drp_model.add(layers.Dense(1, activation='sigmoid'))\n",
        "\n",
        "drp_model.compile(optimizer='adam', loss='binary_crossentropy', metrics=['accuracy'])\n",
        "drp_model.summary()\n",
        "\n",
        "# 모델 학습\n",
        "drp_history = drp_model.fit(x_train, y_train, epochs=20, batch_size=512, validation_data=(x_test, y_test))\n",
        "\n",
        "# 학습 기록 시각화\n",
        "plt.figure(figsize=(12, 6))\n",
        "plot_history(drp_history, color='red', prefix=\"Dropout 0.3\")\n",
        "plt.show()\n"
      ]
    },
    {
      "cell_type": "code",
      "execution_count": null,
      "metadata": {
        "id": "C5L6oQFFHW_r"
      },
      "outputs": [],
      "source": [
        "# Plot training history\n",
        "plt.figure(figsize=(12, 6))\n",
        "plot_history(drp_history, color='red', prefix=\"Dropout 0.3\")"
      ]
    },
    {
      "cell_type": "markdown",
      "metadata": {
        "id": "GtGe8oA5HW_r"
      },
      "source": [
        "### Part 5: Test Different Dropout Rates\n",
        "Objective: Compare the model's performance with varying dropout rates.\n",
        "\n",
        "**Instructions:**\n",
        "1. Write a loop to create and train models with dropout rates of `[0, 0.2, 0.3, 0.4, 0.5]`.\n",
        "2. For each model, record the history to plot it later\n",
        "\n",
        "\n",
        "Complete the code below:"
      ]
    },
    {
      "cell_type": "code",
      "execution_count": 26,
      "metadata": {
        "id": "O3zuv5AQHW_r",
        "outputId": "92611c23-771e-440d-e406-d8d7f8a9e522",
        "colab": {
          "base_uri": "https://localhost:8080/",
          "height": 990
        }
      },
      "outputs": [
        {
          "output_type": "stream",
          "name": "stdout",
          "text": [
            "Training model with dropout rate: 0\n",
            "Training model with dropout rate: 0.2\n",
            "Training model with dropout rate: 0.3\n",
            "Training model with dropout rate: 0.4\n",
            "Training model with dropout rate: 0.5\n"
          ]
        },
        {
          "output_type": "error",
          "ename": "KeyError",
          "evalue": "'acc'",
          "traceback": [
            "\u001b[0;31m---------------------------------------------------------------------------\u001b[0m",
            "\u001b[0;31mKeyError\u001b[0m                                  Traceback (most recent call last)",
            "\u001b[0;32m<ipython-input-26-6442c0bc5161>\u001b[0m in \u001b[0;36m<cell line: 0>\u001b[0;34m()\u001b[0m\n\u001b[1;32m     22\u001b[0m \u001b[0mplt\u001b[0m\u001b[0;34m.\u001b[0m\u001b[0mfigure\u001b[0m\u001b[0;34m(\u001b[0m\u001b[0mfigsize\u001b[0m\u001b[0;34m=\u001b[0m\u001b[0;34m(\u001b[0m\u001b[0;36m12\u001b[0m\u001b[0;34m,\u001b[0m \u001b[0;36m6\u001b[0m\u001b[0;34m)\u001b[0m\u001b[0;34m)\u001b[0m\u001b[0;34m\u001b[0m\u001b[0;34m\u001b[0m\u001b[0m\n\u001b[1;32m     23\u001b[0m \u001b[0;32mfor\u001b[0m \u001b[0mi\u001b[0m\u001b[0;34m,\u001b[0m \u001b[0mhist\u001b[0m \u001b[0;32min\u001b[0m \u001b[0menumerate\u001b[0m\u001b[0;34m(\u001b[0m\u001b[0mhists\u001b[0m\u001b[0;34m)\u001b[0m\u001b[0;34m:\u001b[0m\u001b[0;34m\u001b[0m\u001b[0;34m\u001b[0m\u001b[0m\n\u001b[0;32m---> 24\u001b[0;31m     \u001b[0mplot_history\u001b[0m\u001b[0;34m(\u001b[0m\u001b[0mhist\u001b[0m\u001b[0;34m,\u001b[0m \u001b[0mcolors\u001b[0m\u001b[0;34m[\u001b[0m\u001b[0mi\u001b[0m\u001b[0;34m]\u001b[0m\u001b[0;34m,\u001b[0m \u001b[0mprefix\u001b[0m\u001b[0;34m=\u001b[0m\u001b[0mstr\u001b[0m\u001b[0;34m(\u001b[0m\u001b[0mrates\u001b[0m\u001b[0;34m[\u001b[0m\u001b[0mi\u001b[0m\u001b[0;34m]\u001b[0m\u001b[0;34m)\u001b[0m\u001b[0;34m)\u001b[0m\u001b[0;34m\u001b[0m\u001b[0;34m\u001b[0m\u001b[0m\n\u001b[0m\u001b[1;32m     25\u001b[0m \u001b[0mplt\u001b[0m\u001b[0;34m.\u001b[0m\u001b[0mshow\u001b[0m\u001b[0;34m(\u001b[0m\u001b[0;34m)\u001b[0m\u001b[0;34m\u001b[0m\u001b[0;34m\u001b[0m\u001b[0m\n\u001b[1;32m     26\u001b[0m \u001b[0;34m\u001b[0m\u001b[0m\n",
            "\u001b[0;32m<ipython-input-24-4eb1f6672598>\u001b[0m in \u001b[0;36mplot_history\u001b[0;34m(history, color, prefix)\u001b[0m\n\u001b[1;32m     26\u001b[0m     \u001b[0;31m# Plot the accuracy\u001b[0m\u001b[0;34m\u001b[0m\u001b[0;34m\u001b[0m\u001b[0m\n\u001b[1;32m     27\u001b[0m     \u001b[0mplt\u001b[0m\u001b[0;34m.\u001b[0m\u001b[0msubplot\u001b[0m\u001b[0;34m(\u001b[0m\u001b[0;36m1\u001b[0m\u001b[0;34m,\u001b[0m \u001b[0;36m2\u001b[0m\u001b[0;34m,\u001b[0m \u001b[0;36m2\u001b[0m\u001b[0;34m)\u001b[0m\u001b[0;34m\u001b[0m\u001b[0;34m\u001b[0m\u001b[0m\n\u001b[0;32m---> 28\u001b[0;31m     \u001b[0macc_values\u001b[0m \u001b[0;34m=\u001b[0m \u001b[0mhistory_dict\u001b[0m\u001b[0;34m[\u001b[0m\u001b[0;34m\"acc\"\u001b[0m\u001b[0;34m]\u001b[0m\u001b[0;34m\u001b[0m\u001b[0;34m\u001b[0m\u001b[0m\n\u001b[0m\u001b[1;32m     29\u001b[0m     \u001b[0mval_acc_values\u001b[0m \u001b[0;34m=\u001b[0m \u001b[0mhistory_dict\u001b[0m\u001b[0;34m[\u001b[0m\u001b[0;34m\"val_acc\"\u001b[0m\u001b[0;34m]\u001b[0m\u001b[0;34m\u001b[0m\u001b[0;34m\u001b[0m\u001b[0m\n\u001b[1;32m     30\u001b[0m     \u001b[0;31m# Skip plotting the training accuracy, it makes the plot harder to read\u001b[0m\u001b[0;34m\u001b[0m\u001b[0;34m\u001b[0m\u001b[0m\n",
            "\u001b[0;31mKeyError\u001b[0m: 'acc'"
          ]
        },
        {
          "output_type": "display_data",
          "data": {
            "text/plain": [
              "<Figure size 1200x600 with 2 Axes>"
            ],
            "image/png": "[encoded data removed]"
          },
          "metadata": {}
        }
      ],
      "source": [
        "rates = [0, 0.2, 0.3, 0.4, 0.5]\n",
        "hists = []\n",
        "\n",
        "for rate in rates:\n",
        "    print(f\"Training model with dropout rate: {rate}\")\n",
        "    model = models.Sequential()\n",
        "    model.add(layers.Dense(8, activation='relu', input_shape=(10000,)))\n",
        "    # dropout rate가 0이 아니면 첫 번째 은닉층 후에 Dropout 적용\n",
        "    if rate > 0:\n",
        "        model.add(layers.Dropout(rate))\n",
        "    model.add(layers.Dense(8, activation='relu'))\n",
        "    if rate > 0:\n",
        "        model.add(layers.Dropout(rate))\n",
        "    model.add(layers.Dense(1, activation='sigmoid'))\n",
        "\n",
        "    model.compile(optimizer='adam', loss='binary_crossentropy', metrics=['accuracy'])\n",
        "    # verbose=0: 학습 중 출력 생략 (여러 모델 학습 시 깔끔하게 출력)\n",
        "    hist = model.fit(x_train, y_train, epochs=20, batch_size=512, validation_data=(x_test, y_test), verbose=0)\n",
        "    hists.append(hist)\n",
        "\n",
        "# 각 dropout 비율에 따른 성능 시각화\n",
        "plt.figure(figsize=(12, 6))\n",
        "for i, hist in enumerate(hists):\n",
        "    plot_history(hist, colors[i], prefix=str(rates[i]))\n",
        "plt.show()\n",
        "\n"
      ]
    },
    {
      "cell_type": "code",
      "execution_count": null,
      "metadata": {
        "id": "Z0pA0PypHW_r"
      },
      "outputs": [],
      "source": [
        "plt.figure(figsize=(12, 6))\n",
        "for i, hist in enumerate(hists):\n",
        "    plot_history(hist, colors[i], prefix=str(rates[i]))"
      ]
    },
    {
      "cell_type": "markdown",
      "metadata": {
        "id": "-P1mWx-EHW_r"
      },
      "source": [
        "### Part 6: Experiment with dropout location\n",
        "Objective: Compare the model's performance with dropout placed after different layers\n",
        "\n",
        "**Instructions:**\n",
        "Create 3 models with a single dropout \"layer\" placed:\n",
        "1. Before the first dense layer only\n",
        "2. After the first dense layer only\n",
        "3. After the second dense layer only\n",
        "\n",
        "\n",
        "\n",
        "Complete the code below:"
      ]
    },
    {
      "cell_type": "code",
      "execution_count": null,
      "metadata": {
        "id": "3Ii740FeHW_r"
      },
      "outputs": [],
      "source": [
        "hists_b = [] #append the training history of 3 cases mentioned above\n",
        "rate = 0.4\n",
        "#TODO: your code here\n",
        "\n",
        "# 1. Dropout을 입력층 바로 뒤에 추가 (첫 번째 은닉층 전에)\n",
        "model_before = models.Sequential()\n",
        "model_before.add(layers.Dropout(rate, input_shape=(10000,)))  # 입력에 dropout 적용\n",
        "model_before.add(layers.Dense(8, activation='relu'))\n",
        "model_before.add(layers.Dense(8, activation='relu'))\n",
        "model_before.add(layers.Dense(1, activation='sigmoid'))\n",
        "model_before.compile(optimizer='adam', loss='binary_crossentropy', metrics=['accuracy'])\n",
        "hist_before = model_before.fit(x_train, y_train, epochs=20, batch_size=512, validation_data=(x_test, y_test), verbose=0)\n",
        "hists_b.append(hist_before)\n",
        "\n",
        "# 2. Dropout을 첫 번째 은닉층 후에 추가\n",
        "model_after1 = models.Sequential()\n",
        "model_after1.add(layers.Dense(8, activation='relu', input_shape=(10000,)))\n",
        "model_after1.add(layers.Dropout(rate))\n",
        "model_after1.add(layers.Dense(8, activation='relu'))\n",
        "model_after1.add(layers.Dense(1, activation='sigmoid'))\n",
        "model_after1.compile(optimizer='adam', loss='binary_crossentropy', metrics=['accuracy'])\n",
        "hist_after1 = model_after1.fit(x_train, y_train, epochs=20, batch_size=512, validation_data=(x_test, y_test), verbose=0)\n",
        "hists_b.append(hist_after1)\n",
        "\n",
        "# 3. Dropout을 두 번째 은닉층 후에 추가\n",
        "model_after2 = models.Sequential()\n",
        "model_after2.add(layers.Dense(8, activation='relu', input_shape=(10000,)))\n",
        "model_after2.add(layers.Dense(8, activation='relu'))\n",
        "model_after2.add(layers.Dropout(rate))\n",
        "model_after2.add(layers.Dense(1, activation='sigmoid'))\n",
        "model_after2.compile(optimizer='adam', loss='binary_crossentropy', metrics=['accuracy'])\n",
        "hist_after2 = model_after2.fit(x_train, y_train, epochs=20, batch_size=512, validation_data=(x_test, y_test), verbose=0)\n",
        "hists_b.append(hist_after2)\n"
      ]
    },
    {
      "cell_type": "code",
      "source": [
        "plt.figure(figsize=(12, 6))\n",
        "prefixes = ['before 1st layer', 'after 1st layer', 'after 2nd layer']\n",
        "for i, hist in enumerate(hists_b):\n",
        "    plot_history(hist, colors[i], prefix=prefixes[i])"
      ],
      "metadata": {
        "id": "w_k93DCRNUrX"
      },
      "execution_count": null,
      "outputs": []
    }
  ],
  "metadata": {
    "kernelspec": {
      "display_name": "Python 3",
      "name": "python3"
    },
    "language_info": {
      "codemirror_mode": {
        "name": "ipython",
        "version": 3
      },
      "file_extension": ".py",
      "mimetype": "text/x-python",
      "name": "python",
      "nbconvert_exporter": "python",
      "pygments_lexer": "ipython3",
      "version": "3.12.3"
    },
    "colab": {
      "provenance": [],
      "gpuType": "T4"
    }
  },
  "nbformat": 4,
  "nbformat_minor": 0
}