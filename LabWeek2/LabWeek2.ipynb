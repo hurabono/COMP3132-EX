{
  "cells": [
    {
      "cell_type": "markdown",
      "metadata": {
        "id": "0mAxgWloI7CK"
      },
      "source": [
        "# Logistic Regression as a Single Neuron Model"
      ]
    },
    {
      "cell_type": "markdown",
      "metadata": {
        "id": "16LGF3dq4mYD"
      },
      "source": [
        "## Imports"
      ]
    },
    {
      "cell_type": "code",
      "execution_count": 1,
      "metadata": {
        "id": "_r0MBq9GzGlj"
      },
      "outputs": [],
      "source": [
        "import numpy as np\n",
        "import h5py\n",
        "import requests\n",
        "import os\n",
        "import matplotlib.pyplot as plt"
      ]
    },
    {
      "cell_type": "markdown",
      "metadata": {
        "id": "UNOHCcMAWBa4"
      },
      "source": [
        "## Helper Functions (Just run this cell - no need to go through the code in helper functions)"
      ]
    },
    {
      "cell_type": "code",
      "execution_count": 2,
      "metadata": {
        "id": "HAgV4SZdzF0h"
      },
      "outputs": [],
      "source": [
        "def download_file(url, local_filename):\n",
        "    \"\"\"\n",
        "    Downloads a file from a URL and saves it locally.\n",
        "    \"\"\"\n",
        "    if not os.path.exists(local_filename):\n",
        "        print(f\"Downloading {local_filename}...\")\n",
        "        response = requests.get(url)\n",
        "        if response.status_code == 200:\n",
        "            with open(local_filename, 'wb') as f:\n",
        "                f.write(response.content)\n",
        "            print(f\"File downloaded: {local_filename}\")\n",
        "        else:\n",
        "            raise Exception(f\"Failed to download file from {url}. Status code: {response.status_code}\")\n",
        "    else:\n",
        "        print(f\"File already exists: {local_filename}\")\n",
        "\n",
        "def load_dataset():\n",
        "    # URLs of the .h5 files\n",
        "    train_url = 'https://github.com/PyDataGBC/PyML2025/raw/refs/heads/main/LabWeek2/dataset/train_catvnoncat.h5'\n",
        "    test_url = 'https://github.com/PyDataGBC/PyML2025/raw/refs/heads/main/LabWeek2/dataset/test_catvnoncat.h5'\n",
        "\n",
        "    # Local file paths\n",
        "    train_file = 'train_catvnoncat.h5'\n",
        "    test_file = 'test_catvnoncat.h5'\n",
        "\n",
        "    # Download the files if not already present\n",
        "    download_file(train_url, train_file)\n",
        "    download_file(test_url, test_file)\n",
        "\n",
        "    # Open the files using h5py\n",
        "    train_dataset = h5py.File(train_file, \"r\")\n",
        "    train_set_x_orig = np.array(train_dataset[\"train_set_x\"][:])  # Train set features\n",
        "    train_set_y_orig = np.array(train_dataset[\"train_set_y\"][:])  # Train set labels\n",
        "\n",
        "    test_dataset = h5py.File(test_file, \"r\")\n",
        "    test_set_x_orig = np.array(test_dataset[\"test_set_x\"][:])  # Test set features\n",
        "    test_set_y_orig = np.array(test_dataset[\"test_set_y\"][:])  # Test set labels\n",
        "\n",
        "    classes = np.array(test_dataset[\"list_classes\"][:])  # List of classes\n",
        "\n",
        "    # Reshape labels\n",
        "    train_set_y_orig = train_set_y_orig.reshape((1, train_set_y_orig.shape[0]))\n",
        "    test_set_y_orig = test_set_y_orig.reshape((1, test_set_y_orig.shape[0]))\n",
        "\n",
        "    return train_set_x_orig, train_set_y_orig, test_set_x_orig, test_set_y_orig, classes"
      ]
    },
    {
      "cell_type": "markdown",
      "metadata": {
        "id": "JhzB-_zD4sUH"
      },
      "source": [
        "## Importing Dataset"
      ]
    },
    {
      "cell_type": "code",
      "execution_count": 4,
      "metadata": {
        "colab": {
          "base_uri": "https://localhost:8080/"
        },
        "id": "VDC_aGp_zLzE",
        "outputId": "eec9d9a7-af66-45fe-f3a6-1d9647711794"
      },
      "outputs": [
        {
          "output_type": "stream",
          "name": "stdout",
          "text": [
            "Downloading train_catvnoncat.h5...\n",
            "File downloaded: train_catvnoncat.h5\n",
            "Downloading test_catvnoncat.h5...\n",
            "File downloaded: test_catvnoncat.h5\n"
          ]
        }
      ],
      "source": [
        "train_set_x_orig, train_set_y, test_set_x_orig, test_set_y, classes = load_dataset()"
      ]
    },
    {
      "cell_type": "markdown",
      "metadata": {
        "id": "43XfhBql4xHz"
      },
      "source": [
        "## Data Visualization"
      ]
    },
    {
      "cell_type": "code",
      "execution_count": 17,
      "metadata": {
        "colab": {
          "base_uri": "https://localhost:8080/",
          "height": 469
        },
        "id": "3BTUPBQvzPpW",
        "outputId": "3f2d6fb8-0ec5-4ffe-8ae1-848c50eacb9b"
      },
      "outputs": [
        {
          "output_type": "stream",
          "name": "stdout",
          "text": [
            "label:  [1]\n"
          ]
        },
        {
          "output_type": "execute_result",
          "data": {
            "text/plain": [
              "(209, 64, 64, 3)"
            ]
          },
          "metadata": {},
          "execution_count": 17
        },
        {
          "output_type": "display_data",
          "data": {
            "text/plain": [
              "<Figure size 640x480 with 1 Axes>"
            ],
            "image/png": "[encoded data removed]"
          },
          "metadata": {}
        }
      ],
      "source": [
        "# Example of a picture\n",
        "index = 25   # select a number between 0 and 208\n",
        "#index = np.random.randint(0, 200)  # you can also generate a random number and see the different imagge each time\n",
        "plt.imshow(train_set_x_orig[index])\n",
        "print(\"label: \", train_set_y[:, index])\n",
        "\n",
        "train_set_y\n",
        "len(train_set_y.flatten().shape)\n",
        "train_set_x_orig.shape"
      ]
    },
    {
      "cell_type": "markdown",
      "metadata": {
        "id": "lMMLsPL5jgSF"
      },
      "source": [
        "### **Exercise 1:** Take a look at five different images in train/test set. Try to see both cat and non-cat samples."
      ]
    },
    {
      "cell_type": "code",
      "execution_count": 23,
      "metadata": {
        "id": "hqGL_XaXj2OP",
        "outputId": "19bce3e7-dce6-41af-d435-15570c40435b",
        "colab": {
          "base_uri": "https://localhost:8080/",
          "height": 933
        }
      },
      "outputs": [
        {
          "output_type": "execute_result",
          "data": {
            "text/plain": [
              "array([[[15, 15,  5],\n",
              "        [17, 17,  6],\n",
              "        [17, 17,  7],\n",
              "        ...,\n",
              "        [ 1,  1,  0],\n",
              "        [ 1,  1,  1],\n",
              "        [ 1,  1,  1]],\n",
              "\n",
              "       [[16, 16,  5],\n",
              "        [18, 17,  6],\n",
              "        [19, 18,  9],\n",
              "        ...,\n",
              "        [ 1,  1,  0],\n",
              "        [ 1,  1,  1],\n",
              "        [ 1,  1,  1]],\n",
              "\n",
              "       [[16, 16,  6],\n",
              "        [18, 17,  8],\n",
              "        [21, 19,  9],\n",
              "        ...,\n",
              "        [ 1,  1,  1],\n",
              "        [ 1,  1,  0],\n",
              "        [ 2,  2,  1]],\n",
              "\n",
              "       ...,\n",
              "\n",
              "       [[16, 21, 18],\n",
              "        [22, 27, 24],\n",
              "        [29, 35, 33],\n",
              "        ...,\n",
              "        [ 0,  1,  0],\n",
              "        [ 0,  0,  0],\n",
              "        [ 0,  0,  0]],\n",
              "\n",
              "       [[16, 20, 16],\n",
              "        [22, 29, 25],\n",
              "        [29, 35, 32],\n",
              "        ...,\n",
              "        [ 1,  3,  1],\n",
              "        [ 0,  1,  0],\n",
              "        [ 0,  0,  0]],\n",
              "\n",
              "       [[14, 19, 14],\n",
              "        [21, 29, 25],\n",
              "        [31, 37, 33],\n",
              "        ...,\n",
              "        [ 2,  4,  2],\n",
              "        [ 1,  2,  1],\n",
              "        [ 0,  0,  0]]], dtype=uint8)"
            ],
            "text/html": [
              "<style>\n",
              "      .ndarray_repr .ndarray_raw_data {\n",
              "        display: none;\n",
              "      }\n",
              "      .ndarray_repr.show_array .ndarray_raw_data {\n",
              "        display: block;\n",
              "      }\n",
              "      .ndarray_repr.show_array .ndarray_image_preview {\n",
              "        display: none;\n",
              "      }\n",
              "      </style>\n",
              "      <div id=\"id-aeb86652-31d8-456e-ba49-b749903a6917\" class=\"ndarray_repr\"><pre>ndarray (64, 64, 3) <button style=\"padding: 0 2px;\">show data</button></pre><img src=\"data:image/png;base64,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\" class=\"ndarray_image_preview\" /><pre class=\"ndarray_raw_data\">array([[[15, 15,  5],\n",
              "        [17, 17,  6],\n",
              "        [17, 17,  7],\n",
              "        ...,\n",
              "        [ 1,  1,  0],\n",
              "        [ 1,  1,  1],\n",
              "        [ 1,  1,  1]],\n",
              "\n",
              "       [[16, 16,  5],\n",
              "        [18, 17,  6],\n",
              "        [19, 18,  9],\n",
              "        ...,\n",
              "        [ 1,  1,  0],\n",
              "        [ 1,  1,  1],\n",
              "        [ 1,  1,  1]],\n",
              "\n",
              "       [[16, 16,  6],\n",
              "        [18, 17,  8],\n",
              "        [21, 19,  9],\n",
              "        ...,\n",
              "        [ 1,  1,  1],\n",
              "        [ 1,  1,  0],\n",
              "        [ 2,  2,  1]],\n",
              "\n",
              "       ...,\n",
              "\n",
              "       [[16, 21, 18],\n",
              "        [22, 27, 24],\n",
              "        [29, 35, 33],\n",
              "        ...,\n",
              "        [ 0,  1,  0],\n",
              "        [ 0,  0,  0],\n",
              "        [ 0,  0,  0]],\n",
              "\n",
              "       [[16, 20, 16],\n",
              "        [22, 29, 25],\n",
              "        [29, 35, 32],\n",
              "        ...,\n",
              "        [ 1,  3,  1],\n",
              "        [ 0,  1,  0],\n",
              "        [ 0,  0,  0]],\n",
              "\n",
              "       [[14, 19, 14],\n",
              "        [21, 29, 25],\n",
              "        [31, 37, 33],\n",
              "        ...,\n",
              "        [ 2,  4,  2],\n",
              "        [ 1,  2,  1],\n",
              "        [ 0,  0,  0]]], dtype=uint8)</pre></div><script>\n",
              "      (() => {\n",
              "      const titles = ['show data', 'hide data'];\n",
              "      let index = 0\n",
              "      document.querySelector('#id-aeb86652-31d8-456e-ba49-b749903a6917 button').onclick = (e) => {\n",
              "        document.querySelector('#id-aeb86652-31d8-456e-ba49-b749903a6917').classList.toggle('show_array');\n",
              "        index = (++index) % 2;\n",
              "        document.querySelector('#id-aeb86652-31d8-456e-ba49-b749903a6917 button').textContent = titles[index];\n",
              "        e.preventDefault();\n",
              "        e.stopPropagation();\n",
              "      }\n",
              "      })();\n",
              "    </script>"
            ]
          },
          "metadata": {},
          "execution_count": 23
        },
        {
          "output_type": "display_data",
          "data": {
            "text/plain": [
              "<Figure size 640x480 with 1 Axes>"
            ],
            "image/png": "[encoded data removed]"
          },
          "metadata": {}
        },
        {
          "output_type": "display_data",
          "data": {
            "text/plain": [
              "<Figure size 640x480 with 1 Axes>"
            ],
            "image/png": "[encoded data removed]"
          },
          "metadata": {}
        }
      ],
      "source": [
        "plt.imshow(train_set_x_orig[25])\n",
        "plt.figure()\n",
        "plt.imshow(train_set_x_orig[26])\n",
        "\n",
        "train_set_x_orig[25]\n",
        "\n",
        "# index = 30\n",
        "\n",
        "# plt.imshow(train_set_x_orig[index])\n",
        "# print(\"label: \", train_set_y[:, index])\n"
      ]
    },
    {
      "cell_type": "markdown",
      "metadata": {
        "id": "3gL2KxE7r0h7"
      },
      "source": [
        "### **Exercise 2:** Print `train_set_y` array to see the labels of the data. What percentage of the pictures in `train set` contain cats?"
      ]
    },
    {
      "cell_type": "code",
      "execution_count": 26,
      "metadata": {
        "id": "phnJSNEDsIsc",
        "outputId": "0d8a2eca-8d8e-48d6-aced-f2ddf6fed271",
        "colab": {
          "base_uri": "https://localhost:8080/"
        }
      },
      "outputs": [
        {
          "output_type": "execute_result",
          "data": {
            "text/plain": [
              "50"
            ]
          },
          "metadata": {},
          "execution_count": 26
        }
      ],
      "source": [
        "# your code here\n",
        "# train_set_y.sum() / train_set_y.size\n",
        "\n",
        "test_set_y.size"
      ]
    },
    {
      "cell_type": "markdown",
      "metadata": {
        "id": "ZzIKs9d546Bx"
      },
      "source": [
        "## Data Pre-processing"
      ]
    },
    {
      "cell_type": "markdown",
      "metadata": {
        "id": "pOpUDYyXMXI0"
      },
      "source": [
        "### Brief Theory: Numerical Representation of Images"
      ]
    },
    {
      "cell_type": "markdown",
      "metadata": {
        "id": "1Ybd7jVO7d59"
      },
      "source": [
        "![preprocessing](https://raw.githubusercontent.com/PyDataGBC/PyML2025/refs/heads/main/LabWeek2/assets/imvectorkiank.png)"
      ]
    },
    {
      "cell_type": "markdown",
      "metadata": {
        "id": "ww93xSbYKaOk"
      },
      "source": [
        "### **Example 1:** Numerical Representation of an Image"
      ]
    },
    {
      "cell_type": "markdown",
      "metadata": {
        "id": "9X8lR04-sOcq"
      },
      "source": [
        "![](https://raw.githubusercontent.com/PyDataGBC/PyML2025/refs/heads/main/LabWeek2/assets/imtovec_example.webp)"
      ]
    },
    {
      "cell_type": "markdown",
      "metadata": {
        "id": "K0CpWruY-UFO"
      },
      "source": [
        "#### Step 1: Numerical representation of each channel (`MATRIX` format)"
      ]
    },
    {
      "cell_type": "code",
      "execution_count": 27,
      "metadata": {
        "id": "xK--tj5D-UFP",
        "outputId": "c409a9a6-f84d-4bc4-fdbc-d57ca57588a5",
        "colab": {
          "base_uri": "https://localhost:8080/"
        }
      },
      "outputs": [
        {
          "output_type": "stream",
          "name": "stdout",
          "text": [
            "Red Channel\n",
            "(3, 3)\n",
            "[[255 123 135]\n",
            " [ 44  12  15]\n",
            " [ 56  87  90]]\n",
            "Green Channel\n",
            "(3, 3)\n",
            "[[255 133 175]\n",
            " [ 24 123 169]\n",
            " [ 98  66  77]]\n",
            "Bue Channel\n",
            "(3, 3)\n",
            "[[ 66  54  88]\n",
            " [ 55  98  54]\n",
            " [ 87 142  89]]\n"
          ]
        }
      ],
      "source": [
        "red_channel = np.array([[255, 123, 135], [44, 12, 15], [56, 87, 90]]) # 2d array: Matrix\n",
        "green_channel = np.array([[255, 133, 175], [24, 123, 169], [98, 66, 77]])\n",
        "blue_channel = np.array([[66, 54, 88], [55, 98, 54], [87, 142, 89]])\n",
        "\n",
        "print(\"Red Channel\")\n",
        "print(red_channel.shape)\n",
        "print(red_channel)\n",
        "\n",
        "print(\"Green Channel\")\n",
        "print(green_channel.shape)\n",
        "print(green_channel)\n",
        "\n",
        "print(\"Bue Channel\")\n",
        "print(blue_channel.shape)\n",
        "print(blue_channel)\n",
        "\n"
      ]
    },
    {
      "cell_type": "markdown",
      "metadata": {
        "id": "meaOkgKb-UFP"
      },
      "source": [
        "#### Step 2: Putting the channels together in the form of a `TENSOR`"
      ]
    },
    {
      "cell_type": "code",
      "execution_count": 28,
      "metadata": {
        "id": "oAMljJsV-UFP",
        "outputId": "a87a0fad-f5c6-4429-e4cb-625caddfec7f",
        "colab": {
          "base_uri": "https://localhost:8080/"
        }
      },
      "outputs": [
        {
          "output_type": "stream",
          "name": "stdout",
          "text": [
            "channel, height, width\n",
            "(3, 3, 3)\n",
            "[[[255 123 135]\n",
            "  [ 44  12  15]\n",
            "  [ 56  87  90]]\n",
            "\n",
            " [[255 133 175]\n",
            "  [ 24 123 169]\n",
            "  [ 98  66  77]]\n",
            "\n",
            " [[ 66  54  88]\n",
            "  [ 55  98  54]\n",
            "  [ 87 142  89]]]\n"
          ]
        }
      ],
      "source": [
        "print(\"channel, height, width\")\n",
        "airplane_image = np.array([red_channel, green_channel, blue_channel])  # 3d array: Tensor\n",
        "print(airplane_image.shape)\n",
        "print(airplane_image)"
      ]
    },
    {
      "cell_type": "markdown",
      "metadata": {
        "id": "5SlgJQLo-UFQ"
      },
      "source": [
        "#### Step 3: Flatten the `tensor` into a `VECTOR`"
      ]
    },
    {
      "cell_type": "code",
      "execution_count": null,
      "metadata": {
        "colab": {
          "base_uri": "https://localhost:8080/"
        },
        "id": "a99vH96il50J",
        "outputId": "f2db44bb-9d5f-428b-eff4-56c84e52dcc6"
      },
      "outputs": [
        {
          "name": "stdout",
          "output_type": "stream",
          "text": [
            "(27,)\n",
            "[255 123 135  44  12  15  56  87  90 255 133 175  24 123 169  98  66  77\n",
            "  66  54  88  55  98  54  87 142  89]\n"
          ]
        }
      ],
      "source": [
        "airplane_flatten = airplane_image.flatten()   # 1d array: Vector\n",
        "print(airplane_flatten.shape)\n",
        "print(airplane_flatten)"
      ]
    },
    {
      "cell_type": "markdown",
      "metadata": {
        "id": "PNH054_3icPa"
      },
      "source": [
        "### **Exercise 3:** Take one sample form train set again and check the shape of it. Try to interpret the numbers in the `shape`.\n",
        "\n",
        "**Notes:**\n",
        "- The images are 64x64 `pixels`.\n",
        "- There are 3 RGB `channels`."
      ]
    },
    {
      "cell_type": "code",
      "execution_count": 31,
      "metadata": {
        "id": "NXpWZWGti3FC",
        "outputId": "e82b3a28-030f-4384-b106-c0ae2a83f730",
        "colab": {
          "base_uri": "https://localhost:8080/"
        }
      },
      "outputs": [
        {
          "output_type": "execute_result",
          "data": {
            "text/plain": [
              "(12288,)"
            ]
          },
          "metadata": {},
          "execution_count": 31
        }
      ],
      "source": [
        "sample_index = 25\n",
        "sample_image = train_set_x_orig[25]\n",
        "\n",
        "#your code here\n",
        "\n",
        "sample_image.shape\n",
        "sample_image.flatten().shape"
      ]
    },
    {
      "cell_type": "markdown",
      "metadata": {
        "id": "d16fz_v8-UFR"
      },
      "source": [
        "### **Exercise 4:** Fallaten the this sample image? what is the size of the flattened image? why this number?"
      ]
    },
    {
      "cell_type": "code",
      "execution_count": 33,
      "metadata": {
        "id": "iAKP5NaI-UFR",
        "outputId": "24f902e0-13fe-43fe-89e0-fea005b8240c",
        "colab": {
          "base_uri": "https://localhost:8080/"
        }
      },
      "outputs": [
        {
          "output_type": "execute_result",
          "data": {
            "text/plain": [
              "(209, 64, 64, 3)"
            ]
          },
          "metadata": {},
          "execution_count": 33
        }
      ],
      "source": [
        "train_set_x_orig.shape"
      ]
    },
    {
      "cell_type": "markdown",
      "metadata": {
        "id": "gJNlOz_Dnvi3"
      },
      "source": [
        "### **Data Preprocessing:** Flattening the entrie Train and Test Datasets\n",
        "\n",
        "**Note:** We're going to talk about the details of the following code in next sessions. For now just pay attentin to the output shapes of data."
      ]
    },
    {
      "cell_type": "code",
      "execution_count": 36,
      "metadata": {
        "colab": {
          "base_uri": "https://localhost:8080/"
        },
        "id": "Vlg5rBn4nOgf",
        "outputId": "eee4fb26-8627-47a2-9c16-dc6132a93689"
      },
      "outputs": [
        {
          "output_type": "stream",
          "name": "stdout",
          "text": [
            "Train set shape:  (209, 12288)\n",
            "Test set shape:  (50, 12288)\n",
            "Train label shape:  (209,)\n",
            "Test label shape:  (50,)\n"
          ]
        }
      ],
      "source": [
        "X_train = train_set_x_orig.reshape(train_set_x_orig.shape[0], -1)\n",
        "print(\"Train set shape: \", X_train.shape)\n",
        "\n",
        "X_test = test_set_x_orig.reshape(test_set_x_orig.shape[0], -1)\n",
        "print(\"Test set shape: \", X_test.shape)\n",
        "\n",
        "y_train = train_set_y[0]\n",
        "print(\"Train label shape: \", y_train.shape)\n",
        "\n",
        "y_test = test_set_y[0]\n",
        "print(\"Test label shape: \", y_test.shape)\n",
        "\n"
      ]
    },
    {
      "cell_type": "markdown",
      "metadata": {
        "id": "H70z1H4a-UFR"
      },
      "source": [
        "**Important Notes:**\n",
        "- We have 209 samples in the train set, and\n",
        "- 50 samples in the test set.\n",
        "- each sample has 64x64x3=12288 `features`. So each pixel can be considered as one feature.\n",
        "- remember that we had `4` features in `IRIS` dataset and now we have more than `10,000` features."
      ]
    },
    {
      "cell_type": "markdown",
      "metadata": {
        "id": "8hTAntEGmGH8"
      },
      "source": [
        "## Implementing Logistic Regression\n",
        "\n",
        "This is what happens under the hood when you use the `LogisticRegression` classifier in scikit-learn."
      ]
    },
    {
      "cell_type": "markdown",
      "metadata": {
        "id": "iqZ30WFX9F6e"
      },
      "source": [
        "![](https://raw.githubusercontent.com/PyDataGBC/PyML2025/refs/heads/main/LabWeek2/assets/LogReg_kiank.png)"
      ]
    },
    {
      "cell_type": "markdown",
      "metadata": {
        "id": "FA8T0efE-UFS"
      },
      "source": [
        "### **Example 2:** What is the label in the following hypothetical input?\n",
        "\n",
        "![](https://raw.githubusercontent.com/PyDataGBC/PyML2025/refs/heads/main/LabWeek2/assets/toyexample.png)"
      ]
    },
    {
      "cell_type": "code",
      "execution_count": null,
      "metadata": {
        "id": "rNhXEVgg-UFS"
      },
      "outputs": [],
      "source": [
        "#your calculation here\n"
      ]
    },
    {
      "cell_type": "markdown",
      "metadata": {
        "id": "Gn0UooRwpzRk"
      },
      "source": [
        "### **Exercise 6:** Train a `LogisticRegression` classifier to run a binary classification on the flattened cat pictures."
      ]
    },
    {
      "cell_type": "code",
      "execution_count": 37,
      "metadata": {
        "id": "Lcc0357e9IOH"
      },
      "outputs": [],
      "source": [
        "from sklearn.linear_model import LogisticRegression\n",
        "from sklearn.metrics import accuracy_score"
      ]
    },
    {
      "cell_type": "code",
      "execution_count": 39,
      "metadata": {
        "id": "mF7xJBuzq6P2",
        "outputId": "f9f292f9-ae80-4e10-8170-3c5d38985eaa",
        "colab": {
          "base_uri": "https://localhost:8080/",
          "height": 80
        }
      },
      "outputs": [
        {
          "output_type": "execute_result",
          "data": {
            "text/plain": [
              "LogisticRegression()"
            ],
            "text/html": [
              "<style>#sk-container-id-1 {\n",
              "  /* Definition of color scheme common for light and dark mode */\n",
              "  --sklearn-color-text: #000;\n",
              "  --sklearn-color-text-muted: #666;\n",
              "  --sklearn-color-line: gray;\n",
              "  /* Definition of color scheme for unfitted estimators */\n",
              "  --sklearn-color-unfitted-level-0: #fff5e6;\n",
              "  --sklearn-color-unfitted-level-1: #f6e4d2;\n",
              "  --sklearn-color-unfitted-level-2: #ffe0b3;\n",
              "  --sklearn-color-unfitted-level-3: chocolate;\n",
              "  /* Definition of color scheme for fitted estimators */\n",
              "  --sklearn-color-fitted-level-0: #f0f8ff;\n",
              "  --sklearn-color-fitted-level-1: #d4ebff;\n",
              "  --sklearn-color-fitted-level-2: #b3dbfd;\n",
              "  --sklearn-color-fitted-level-3: cornflowerblue;\n",
              "\n",
              "  /* Specific color for light theme */\n",
              "  --sklearn-color-text-on-default-background: var(--sg-text-color, var(--theme-code-foreground, var(--jp-content-font-color1, black)));\n",
              "  --sklearn-color-background: var(--sg-background-color, var(--theme-background, var(--jp-layout-color0, white)));\n",
              "  --sklearn-color-border-box: var(--sg-text-color, var(--theme-code-foreground, var(--jp-content-font-color1, black)));\n",
              "  --sklearn-color-icon: #696969;\n",
              "\n",
              "  @media (prefers-color-scheme: dark) {\n",
              "    /* Redefinition of color scheme for dark theme */\n",
              "    --sklearn-color-text-on-default-background: var(--sg-text-color, var(--theme-code-foreground, var(--jp-content-font-color1, white)));\n",
              "    --sklearn-color-background: var(--sg-background-color, var(--theme-background, var(--jp-layout-color0, #111)));\n",
              "    --sklearn-color-border-box: var(--sg-text-color, var(--theme-code-foreground, var(--jp-content-font-color1, white)));\n",
              "    --sklearn-color-icon: #878787;\n",
              "  }\n",
              "}\n",
              "\n",
              "#sk-container-id-1 {\n",
              "  color: var(--sklearn-color-text);\n",
              "}\n",
              "\n",
              "#sk-container-id-1 pre {\n",
              "  padding: 0;\n",
              "}\n",
              "\n",
              "#sk-container-id-1 input.sk-hidden--visually {\n",
              "  border: 0;\n",
              "  clip: rect(1px 1px 1px 1px);\n",
              "  clip: rect(1px, 1px, 1px, 1px);\n",
              "  height: 1px;\n",
              "  margin: -1px;\n",
              "  overflow: hidden;\n",
              "  padding: 0;\n",
              "  position: absolute;\n",
              "  width: 1px;\n",
              "}\n",
              "\n",
              "#sk-container-id-1 div.sk-dashed-wrapped {\n",
              "  border: 1px dashed var(--sklearn-color-line);\n",
              "  margin: 0 0.4em 0.5em 0.4em;\n",
              "  box-sizing: border-box;\n",
              "  padding-bottom: 0.4em;\n",
              "  background-color: var(--sklearn-color-background);\n",
              "}\n",
              "\n",
              "#sk-container-id-1 div.sk-container {\n",
              "  /* jupyter's `normalize.less` sets `[hidden] { display: none; }`\n",
              "     but bootstrap.min.css set `[hidden] { display: none !important; }`\n",
              "     so we also need the `!important` here to be able to override the\n",
              "     default hidden behavior on the sphinx rendered scikit-learn.org.\n",
              "     See: https://github.com/scikit-learn/scikit-learn/issues/21755 */\n",
              "  display: inline-block !important;\n",
              "  position: relative;\n",
              "}\n",
              "\n",
              "#sk-container-id-1 div.sk-text-repr-fallback {\n",
              "  display: none;\n",
              "}\n",
              "\n",
              "div.sk-parallel-item,\n",
              "div.sk-serial,\n",
              "div.sk-item {\n",
              "  /* draw centered vertical line to link estimators */\n",
              "  background-image: linear-gradient(var(--sklearn-color-text-on-default-background), var(--sklearn-color-text-on-default-background));\n",
              "  background-size: 2px 100%;\n",
              "  background-repeat: no-repeat;\n",
              "  background-position: center center;\n",
              "}\n",
              "\n",
              "/* Parallel-specific style estimator block */\n",
              "\n",
              "#sk-container-id-1 div.sk-parallel-item::after {\n",
              "  content: \"\";\n",
              "  width: 100%;\n",
              "  border-bottom: 2px solid var(--sklearn-color-text-on-default-background);\n",
              "  flex-grow: 1;\n",
              "}\n",
              "\n",
              "#sk-container-id-1 div.sk-parallel {\n",
              "  display: flex;\n",
              "  align-items: stretch;\n",
              "  justify-content: center;\n",
              "  background-color: var(--sklearn-color-background);\n",
              "  position: relative;\n",
              "}\n",
              "\n",
              "#sk-container-id-1 div.sk-parallel-item {\n",
              "  display: flex;\n",
              "  flex-direction: column;\n",
              "}\n",
              "\n",
              "#sk-container-id-1 div.sk-parallel-item:first-child::after {\n",
              "  align-self: flex-end;\n",
              "  width: 50%;\n",
              "}\n",
              "\n",
              "#sk-container-id-1 div.sk-parallel-item:last-child::after {\n",
              "  align-self: flex-start;\n",
              "  width: 50%;\n",
              "}\n",
              "\n",
              "#sk-container-id-1 div.sk-parallel-item:only-child::after {\n",
              "  width: 0;\n",
              "}\n",
              "\n",
              "/* Serial-specific style estimator block */\n",
              "\n",
              "#sk-container-id-1 div.sk-serial {\n",
              "  display: flex;\n",
              "  flex-direction: column;\n",
              "  align-items: center;\n",
              "  background-color: var(--sklearn-color-background);\n",
              "  padding-right: 1em;\n",
              "  padding-left: 1em;\n",
              "}\n",
              "\n",
              "\n",
              "/* Toggleable style: style used for estimator/Pipeline/ColumnTransformer box that is\n",
              "clickable and can be expanded/collapsed.\n",
              "- Pipeline and ColumnTransformer use this feature and define the default style\n",
              "- Estimators will overwrite some part of the style using the `sk-estimator` class\n",
              "*/\n",
              "\n",
              "/* Pipeline and ColumnTransformer style (default) */\n",
              "\n",
              "#sk-container-id-1 div.sk-toggleable {\n",
              "  /* Default theme specific background. It is overwritten whether we have a\n",
              "  specific estimator or a Pipeline/ColumnTransformer */\n",
              "  background-color: var(--sklearn-color-background);\n",
              "}\n",
              "\n",
              "/* Toggleable label */\n",
              "#sk-container-id-1 label.sk-toggleable__label {\n",
              "  cursor: pointer;\n",
              "  display: flex;\n",
              "  width: 100%;\n",
              "  margin-bottom: 0;\n",
              "  padding: 0.5em;\n",
              "  box-sizing: border-box;\n",
              "  text-align: center;\n",
              "  align-items: start;\n",
              "  justify-content: space-between;\n",
              "  gap: 0.5em;\n",
              "}\n",
              "\n",
              "#sk-container-id-1 label.sk-toggleable__label .caption {\n",
              "  font-size: 0.6rem;\n",
              "  font-weight: lighter;\n",
              "  color: var(--sklearn-color-text-muted);\n",
              "}\n",
              "\n",
              "#sk-container-id-1 label.sk-toggleable__label-arrow:before {\n",
              "  /* Arrow on the left of the label */\n",
              "  content: \"▸\";\n",
              "  float: left;\n",
              "  margin-right: 0.25em;\n",
              "  color: var(--sklearn-color-icon);\n",
              "}\n",
              "\n",
              "#sk-container-id-1 label.sk-toggleable__label-arrow:hover:before {\n",
              "  color: var(--sklearn-color-text);\n",
              "}\n",
              "\n",
              "/* Toggleable content - dropdown */\n",
              "\n",
              "#sk-container-id-1 div.sk-toggleable__content {\n",
              "  max-height: 0;\n",
              "  max-width: 0;\n",
              "  overflow: hidden;\n",
              "  text-align: left;\n",
              "  /* unfitted */\n",
              "  background-color: var(--sklearn-color-unfitted-level-0);\n",
              "}\n",
              "\n",
              "#sk-container-id-1 div.sk-toggleable__content.fitted {\n",
              "  /* fitted */\n",
              "  background-color: var(--sklearn-color-fitted-level-0);\n",
              "}\n",
              "\n",
              "#sk-container-id-1 div.sk-toggleable__content pre {\n",
              "  margin: 0.2em;\n",
              "  border-radius: 0.25em;\n",
              "  color: var(--sklearn-color-text);\n",
              "  /* unfitted */\n",
              "  background-color: var(--sklearn-color-unfitted-level-0);\n",
              "}\n",
              "\n",
              "#sk-container-id-1 div.sk-toggleable__content.fitted pre {\n",
              "  /* unfitted */\n",
              "  background-color: var(--sklearn-color-fitted-level-0);\n",
              "}\n",
              "\n",
              "#sk-container-id-1 input.sk-toggleable__control:checked~div.sk-toggleable__content {\n",
              "  /* Expand drop-down */\n",
              "  max-height: 200px;\n",
              "  max-width: 100%;\n",
              "  overflow: auto;\n",
              "}\n",
              "\n",
              "#sk-container-id-1 input.sk-toggleable__control:checked~label.sk-toggleable__label-arrow:before {\n",
              "  content: \"▾\";\n",
              "}\n",
              "\n",
              "/* Pipeline/ColumnTransformer-specific style */\n",
              "\n",
              "#sk-container-id-1 div.sk-label input.sk-toggleable__control:checked~label.sk-toggleable__label {\n",
              "  color: var(--sklearn-color-text);\n",
              "  background-color: var(--sklearn-color-unfitted-level-2);\n",
              "}\n",
              "\n",
              "#sk-container-id-1 div.sk-label.fitted input.sk-toggleable__control:checked~label.sk-toggleable__label {\n",
              "  background-color: var(--sklearn-color-fitted-level-2);\n",
              "}\n",
              "\n",
              "/* Estimator-specific style */\n",
              "\n",
              "/* Colorize estimator box */\n",
              "#sk-container-id-1 div.sk-estimator input.sk-toggleable__control:checked~label.sk-toggleable__label {\n",
              "  /* unfitted */\n",
              "  background-color: var(--sklearn-color-unfitted-level-2);\n",
              "}\n",
              "\n",
              "#sk-container-id-1 div.sk-estimator.fitted input.sk-toggleable__control:checked~label.sk-toggleable__label {\n",
              "  /* fitted */\n",
              "  background-color: var(--sklearn-color-fitted-level-2);\n",
              "}\n",
              "\n",
              "#sk-container-id-1 div.sk-label label.sk-toggleable__label,\n",
              "#sk-container-id-1 div.sk-label label {\n",
              "  /* The background is the default theme color */\n",
              "  color: var(--sklearn-color-text-on-default-background);\n",
              "}\n",
              "\n",
              "/* On hover, darken the color of the background */\n",
              "#sk-container-id-1 div.sk-label:hover label.sk-toggleable__label {\n",
              "  color: var(--sklearn-color-text);\n",
              "  background-color: var(--sklearn-color-unfitted-level-2);\n",
              "}\n",
              "\n",
              "/* Label box, darken color on hover, fitted */\n",
              "#sk-container-id-1 div.sk-label.fitted:hover label.sk-toggleable__label.fitted {\n",
              "  color: var(--sklearn-color-text);\n",
              "  background-color: var(--sklearn-color-fitted-level-2);\n",
              "}\n",
              "\n",
              "/* Estimator label */\n",
              "\n",
              "#sk-container-id-1 div.sk-label label {\n",
              "  font-family: monospace;\n",
              "  font-weight: bold;\n",
              "  display: inline-block;\n",
              "  line-height: 1.2em;\n",
              "}\n",
              "\n",
              "#sk-container-id-1 div.sk-label-container {\n",
              "  text-align: center;\n",
              "}\n",
              "\n",
              "/* Estimator-specific */\n",
              "#sk-container-id-1 div.sk-estimator {\n",
              "  font-family: monospace;\n",
              "  border: 1px dotted var(--sklearn-color-border-box);\n",
              "  border-radius: 0.25em;\n",
              "  box-sizing: border-box;\n",
              "  margin-bottom: 0.5em;\n",
              "  /* unfitted */\n",
              "  background-color: var(--sklearn-color-unfitted-level-0);\n",
              "}\n",
              "\n",
              "#sk-container-id-1 div.sk-estimator.fitted {\n",
              "  /* fitted */\n",
              "  background-color: var(--sklearn-color-fitted-level-0);\n",
              "}\n",
              "\n",
              "/* on hover */\n",
              "#sk-container-id-1 div.sk-estimator:hover {\n",
              "  /* unfitted */\n",
              "  background-color: var(--sklearn-color-unfitted-level-2);\n",
              "}\n",
              "\n",
              "#sk-container-id-1 div.sk-estimator.fitted:hover {\n",
              "  /* fitted */\n",
              "  background-color: var(--sklearn-color-fitted-level-2);\n",
              "}\n",
              "\n",
              "/* Specification for estimator info (e.g. \"i\" and \"?\") */\n",
              "\n",
              "/* Common style for \"i\" and \"?\" */\n",
              "\n",
              ".sk-estimator-doc-link,\n",
              "a:link.sk-estimator-doc-link,\n",
              "a:visited.sk-estimator-doc-link {\n",
              "  float: right;\n",
              "  font-size: smaller;\n",
              "  line-height: 1em;\n",
              "  font-family: monospace;\n",
              "  background-color: var(--sklearn-color-background);\n",
              "  border-radius: 1em;\n",
              "  height: 1em;\n",
              "  width: 1em;\n",
              "  text-decoration: none !important;\n",
              "  margin-left: 0.5em;\n",
              "  text-align: center;\n",
              "  /* unfitted */\n",
              "  border: var(--sklearn-color-unfitted-level-1) 1pt solid;\n",
              "  color: var(--sklearn-color-unfitted-level-1);\n",
              "}\n",
              "\n",
              ".sk-estimator-doc-link.fitted,\n",
              "a:link.sk-estimator-doc-link.fitted,\n",
              "a:visited.sk-estimator-doc-link.fitted {\n",
              "  /* fitted */\n",
              "  border: var(--sklearn-color-fitted-level-1) 1pt solid;\n",
              "  color: var(--sklearn-color-fitted-level-1);\n",
              "}\n",
              "\n",
              "/* On hover */\n",
              "div.sk-estimator:hover .sk-estimator-doc-link:hover,\n",
              ".sk-estimator-doc-link:hover,\n",
              "div.sk-label-container:hover .sk-estimator-doc-link:hover,\n",
              ".sk-estimator-doc-link:hover {\n",
              "  /* unfitted */\n",
              "  background-color: var(--sklearn-color-unfitted-level-3);\n",
              "  color: var(--sklearn-color-background);\n",
              "  text-decoration: none;\n",
              "}\n",
              "\n",
              "div.sk-estimator.fitted:hover .sk-estimator-doc-link.fitted:hover,\n",
              ".sk-estimator-doc-link.fitted:hover,\n",
              "div.sk-label-container:hover .sk-estimator-doc-link.fitted:hover,\n",
              ".sk-estimator-doc-link.fitted:hover {\n",
              "  /* fitted */\n",
              "  background-color: var(--sklearn-color-fitted-level-3);\n",
              "  color: var(--sklearn-color-background);\n",
              "  text-decoration: none;\n",
              "}\n",
              "\n",
              "/* Span, style for the box shown on hovering the info icon */\n",
              ".sk-estimator-doc-link span {\n",
              "  display: none;\n",
              "  z-index: 9999;\n",
              "  position: relative;\n",
              "  font-weight: normal;\n",
              "  right: .2ex;\n",
              "  padding: .5ex;\n",
              "  margin: .5ex;\n",
              "  width: min-content;\n",
              "  min-width: 20ex;\n",
              "  max-width: 50ex;\n",
              "  color: var(--sklearn-color-text);\n",
              "  box-shadow: 2pt 2pt 4pt #999;\n",
              "  /* unfitted */\n",
              "  background: var(--sklearn-color-unfitted-level-0);\n",
              "  border: .5pt solid var(--sklearn-color-unfitted-level-3);\n",
              "}\n",
              "\n",
              ".sk-estimator-doc-link.fitted span {\n",
              "  /* fitted */\n",
              "  background: var(--sklearn-color-fitted-level-0);\n",
              "  border: var(--sklearn-color-fitted-level-3);\n",
              "}\n",
              "\n",
              ".sk-estimator-doc-link:hover span {\n",
              "  display: block;\n",
              "}\n",
              "\n",
              "/* \"?\"-specific style due to the `<a>` HTML tag */\n",
              "\n",
              "#sk-container-id-1 a.estimator_doc_link {\n",
              "  float: right;\n",
              "  font-size: 1rem;\n",
              "  line-height: 1em;\n",
              "  font-family: monospace;\n",
              "  background-color: var(--sklearn-color-background);\n",
              "  border-radius: 1rem;\n",
              "  height: 1rem;\n",
              "  width: 1rem;\n",
              "  text-decoration: none;\n",
              "  /* unfitted */\n",
              "  color: var(--sklearn-color-unfitted-level-1);\n",
              "  border: var(--sklearn-color-unfitted-level-1) 1pt solid;\n",
              "}\n",
              "\n",
              "#sk-container-id-1 a.estimator_doc_link.fitted {\n",
              "  /* fitted */\n",
              "  border: var(--sklearn-color-fitted-level-1) 1pt solid;\n",
              "  color: var(--sklearn-color-fitted-level-1);\n",
              "}\n",
              "\n",
              "/* On hover */\n",
              "#sk-container-id-1 a.estimator_doc_link:hover {\n",
              "  /* unfitted */\n",
              "  background-color: var(--sklearn-color-unfitted-level-3);\n",
              "  color: var(--sklearn-color-background);\n",
              "  text-decoration: none;\n",
              "}\n",
              "\n",
              "#sk-container-id-1 a.estimator_doc_link.fitted:hover {\n",
              "  /* fitted */\n",
              "  background-color: var(--sklearn-color-fitted-level-3);\n",
              "}\n",
              "</style><div id=\"sk-container-id-1\" class=\"sk-top-container\"><div class=\"sk-text-repr-fallback\"><pre>LogisticRegression()</pre><b>In a Jupyter environment, please rerun this cell to show the HTML representation or trust the notebook. <br />On GitHub, the HTML representation is unable to render, please try loading this page with nbviewer.org.</b></div><div class=\"sk-container\" hidden><div class=\"sk-item\"><div class=\"sk-estimator fitted sk-toggleable\"><input class=\"sk-toggleable__control sk-hidden--visually\" id=\"sk-estimator-id-1\" type=\"checkbox\" checked><label for=\"sk-estimator-id-1\" class=\"sk-toggleable__label fitted sk-toggleable__label-arrow\"><div><div>LogisticRegression</div></div><div><a class=\"sk-estimator-doc-link fitted\" rel=\"noreferrer\" target=\"_blank\" href=\"https://scikit-learn.org/1.6/modules/generated/sklearn.linear_model.LogisticRegression.html\">?<span>Documentation for LogisticRegression</span></a><span class=\"sk-estimator-doc-link fitted\">i<span>Fitted</span></span></div></label><div class=\"sk-toggleable__content fitted\"><pre>LogisticRegression()</pre></div> </div></div></div></div>"
            ]
          },
          "metadata": {},
          "execution_count": 39
        }
      ],
      "source": [
        "#your code here\n",
        "#instantiate the model\n",
        "#train the model\n",
        "#use the model to predict and evaluate it\n",
        "\n",
        "model = LogisticRegression()\n",
        "model.fit(X_train, y_train)\n"
      ]
    },
    {
      "cell_type": "markdown",
      "metadata": {
        "id": "FyCDtA0QqikC"
      },
      "source": [
        "### **Exercise 7:** Evaluate your model manually\n",
        "\n",
        "1. Choose a random index of an image.\n",
        "2. Display the image.\n",
        "3. Print the original label.\n",
        "4. Print the predicted label.\n",
        "5. Repeat this process multiple times to identify which pictures are more challenging for the model."
      ]
    },
    {
      "cell_type": "code",
      "source": [
        "index = 25\n",
        "\n",
        "cat = X_test[index]\n",
        "model.predict([X_train[index], X_train[index+1]])"
      ],
      "metadata": {
        "id": "WfdpYxiAOgkt",
        "outputId": "02cba435-350e-4d93-f3d7-3c4c10b73071",
        "colab": {
          "base_uri": "https://localhost:8080/"
        }
      },
      "execution_count": 50,
      "outputs": [
        {
          "output_type": "execute_result",
          "data": {
            "text/plain": [
              "array([1, 0])"
            ]
          },
          "metadata": {},
          "execution_count": 50
        }
      ]
    },
    {
      "cell_type": "code",
      "source": [
        "X_test[index].reshape(64,64,3)"
      ],
      "metadata": {
        "id": "Zr63T7XrO5zM",
        "outputId": "03fc0a9b-9c63-4c0d-92f9-74654e11699c",
        "colab": {
          "base_uri": "https://localhost:8080/",
          "height": 103
        }
      },
      "execution_count": 54,
      "outputs": [
        {
          "output_type": "execute_result",
          "data": {
            "text/plain": [
              "array([[[209, 133,  53],\n",
              "        [207, 130,  51],\n",
              "        [181, 107,  38],\n",
              "        ...,\n",
              "        [ 28,  16,   2],\n",
              "        [ 24,  15,   2],\n",
              "        [ 20,  14,   2]],\n",
              "\n",
              "       [[218, 142,  59],\n",
              "        [216, 140,  58],\n",
              "        [202, 126,  50],\n",
              "        ...,\n",
              "        [ 29,  17,   3],\n",
              "        [ 25,  15,   3],\n",
              "        [ 22,  15,   3]],\n",
              "\n",
              "       [[227, 151,  66],\n",
              "        [226, 149,  64],\n",
              "        [217, 139,  59],\n",
              "        ...,\n",
              "        [ 29,  17,   4],\n",
              "        [ 25,  15,   4],\n",
              "        [ 21,  14,   3]],\n",
              "\n",
              "       ...,\n",
              "\n",
              "       [[ 21,  11,   2],\n",
              "        [ 23,  13,   3],\n",
              "        [ 26,  14,   3],\n",
              "        ...,\n",
              "        [109,  98, 103],\n",
              "        [104,  94,  99],\n",
              "        [102,  91,  97]],\n",
              "\n",
              "       [[ 21,  11,   2],\n",
              "        [ 23,  13,   3],\n",
              "        [ 25,  13,   4],\n",
              "        ...,\n",
              "        [109, 100, 105],\n",
              "        [103,  94,  99],\n",
              "        [ 98,  90,  94]],\n",
              "\n",
              "       [[ 20,  11,   2],\n",
              "        [ 22,  12,   3],\n",
              "        [ 23,  13,   3],\n",
              "        ...,\n",
              "        [102,  90,  95],\n",
              "        [ 97,  86,  90],\n",
              "        [ 94,  84,  89]]], dtype=uint8)"
            ],
            "text/html": [
              "<style>\n",
              "      .ndarray_repr .ndarray_raw_data {\n",
              "        display: none;\n",
              "      }\n",
              "      .ndarray_repr.show_array .ndarray_raw_data {\n",
              "        display: block;\n",
              "      }\n",
              "      .ndarray_repr.show_array .ndarray_image_preview {\n",
              "        display: none;\n",
              "      }\n",
              "      </style>\n",
              "      <div id=\"id-420cac1d-9140-43ca-a8f5-d26719b51f63\" class=\"ndarray_repr\"><pre>ndarray (64, 64, 3) <button style=\"padding: 0 2px;\">show data</button></pre><img src=\"data:image/png;base64,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\" class=\"ndarray_image_preview\" /><pre class=\"ndarray_raw_data\">array([[[209, 133,  53],\n",
              "        [207, 130,  51],\n",
              "        [181, 107,  38],\n",
              "        ...,\n",
              "        [ 28,  16,   2],\n",
              "        [ 24,  15,   2],\n",
              "        [ 20,  14,   2]],\n",
              "\n",
              "       [[218, 142,  59],\n",
              "        [216, 140,  58],\n",
              "        [202, 126,  50],\n",
              "        ...,\n",
              "        [ 29,  17,   3],\n",
              "        [ 25,  15,   3],\n",
              "        [ 22,  15,   3]],\n",
              "\n",
              "       [[227, 151,  66],\n",
              "        [226, 149,  64],\n",
              "        [217, 139,  59],\n",
              "        ...,\n",
              "        [ 29,  17,   4],\n",
              "        [ 25,  15,   4],\n",
              "        [ 21,  14,   3]],\n",
              "\n",
              "       ...,\n",
              "\n",
              "       [[ 21,  11,   2],\n",
              "        [ 23,  13,   3],\n",
              "        [ 26,  14,   3],\n",
              "        ...,\n",
              "        [109,  98, 103],\n",
              "        [104,  94,  99],\n",
              "        [102,  91,  97]],\n",
              "\n",
              "       [[ 21,  11,   2],\n",
              "        [ 23,  13,   3],\n",
              "        [ 25,  13,   4],\n",
              "        ...,\n",
              "        [109, 100, 105],\n",
              "        [103,  94,  99],\n",
              "        [ 98,  90,  94]],\n",
              "\n",
              "       [[ 20,  11,   2],\n",
              "        [ 22,  12,   3],\n",
              "        [ 23,  13,   3],\n",
              "        ...,\n",
              "        [102,  90,  95],\n",
              "        [ 97,  86,  90],\n",
              "        [ 94,  84,  89]]], dtype=uint8)</pre></div><script>\n",
              "      (() => {\n",
              "      const titles = ['show data', 'hide data'];\n",
              "      let index = 0\n",
              "      document.querySelector('#id-420cac1d-9140-43ca-a8f5-d26719b51f63 button').onclick = (e) => {\n",
              "        document.querySelector('#id-420cac1d-9140-43ca-a8f5-d26719b51f63').classList.toggle('show_array');\n",
              "        index = (++index) % 2;\n",
              "        document.querySelector('#id-420cac1d-9140-43ca-a8f5-d26719b51f63 button').textContent = titles[index];\n",
              "        e.preventDefault();\n",
              "        e.stopPropagation();\n",
              "      }\n",
              "      })();\n",
              "    </script>"
            ]
          },
          "metadata": {},
          "execution_count": 54
        }
      ]
    },
    {
      "cell_type": "markdown",
      "metadata": {
        "id": "cn8tvYOyqR5I"
      },
      "source": [
        "### **Exercise 8:** Report the overall accuracy of your classifier"
      ]
    },
    {
      "cell_type": "code",
      "execution_count": 48,
      "metadata": {
        "id": "xo10iTsZq66K",
        "outputId": "3a8f2daa-2c04-43b1-82c1-ef05e0cf5c83",
        "colab": {
          "base_uri": "https://localhost:8080/"
        }
      },
      "outputs": [
        {
          "output_type": "execute_result",
          "data": {
            "text/plain": [
              "1.0"
            ]
          },
          "metadata": {},
          "execution_count": 48
        }
      ],
      "source": [
        "#you code here\n",
        "\n",
        "y_pred = model.predict(X_test)\n",
        "\n",
        "# (y_pred == y_test).sum() / y_test.size\n",
        "\n",
        "\n",
        "accuracy_score(model.predict(X_train), y_train)"
      ]
    },
    {
      "cell_type": "markdown",
      "metadata": {
        "id": "MODwrzh8rCti"
      },
      "source": [
        "## MNIST dataset (Exercise 9-12) - Optional, if you have extra time"
      ]
    },
    {
      "cell_type": "code",
      "execution_count": 55,
      "metadata": {
        "colab": {
          "base_uri": "https://localhost:8080/"
        },
        "id": "7utkStuDrs96",
        "outputId": "906e7322-c020-4f3e-feae-3b8d1c5453b5"
      },
      "outputs": [
        {
          "output_type": "stream",
          "name": "stdout",
          "text": [
            "Downloading data from https://storage.googleapis.com/tensorflow/tf-keras-datasets/mnist.npz\n",
            "\u001b[1m11490434/11490434\u001b[0m \u001b[32m━━━━━━━━━━━━━━━━━━━━\u001b[0m\u001b[37m\u001b[0m \u001b[1m0s\u001b[0m 0us/step\n"
          ]
        }
      ],
      "source": [
        "#import mnist dataset\n",
        "from keras.datasets import mnist\n",
        "(x_train, y_train), (x_test, y_test) = mnist.load_data()"
      ]
    },
    {
      "cell_type": "code",
      "execution_count": 62,
      "metadata": {
        "colab": {
          "base_uri": "https://localhost:8080/"
        },
        "id": "EcCC08Sexfx0",
        "outputId": "07e367a8-4975-4a43-e87e-3b034f575298"
      },
      "outputs": [
        {
          "output_type": "execute_result",
          "data": {
            "text/plain": [
              "(10000, 28, 28)"
            ]
          },
          "metadata": {},
          "execution_count": 62
        }
      ],
      "source": [
        "x_train.shape\n",
        "x_test.shape"
      ]
    },
    {
      "cell_type": "code",
      "execution_count": 58,
      "metadata": {
        "colab": {
          "base_uri": "https://localhost:8080/",
          "height": 485
        },
        "id": "KMQ1_aSfxkZI",
        "outputId": "9508d8d4-e496-4144-c5fd-e4b66920a995"
      },
      "outputs": [
        {
          "output_type": "stream",
          "name": "stdout",
          "text": [
            "Label:  5\n",
            "Image Shape:  (28, 28)\n"
          ]
        },
        {
          "output_type": "execute_result",
          "data": {
            "text/plain": [
              "<matplotlib.colorbar.Colorbar at 0x7df6b6ed9490>"
            ]
          },
          "metadata": {},
          "execution_count": 58
        },
        {
          "output_type": "display_data",
          "data": {
            "text/plain": [
              "<Figure size 640x480 with 2 Axes>"
            ],
            "image/png": "[encoded data removed]"
          },
          "metadata": {}
        }
      ],
      "source": [
        "#Note: Run this cell multiple times\n",
        "index = np.random.randint(0, x_train.shape[0])\n",
        "print(\"Label: \", y_train[index])\n",
        "print(\"Image Shape: \", x_train[index].shape)\n",
        "plt.imshow(x_train[index], cmap='gray')\n",
        "plt.colorbar()"
      ]
    },
    {
      "cell_type": "markdown",
      "metadata": {
        "id": "FbfT3xU5Qz73"
      },
      "source": [
        "### **Excercise 9:** What is the difference between a black-and-white image and a color image in terms of numerical representation?\n",
        "\n",
        "### Hint: check the number of channels in the two types of images."
      ]
    },
    {
      "cell_type": "markdown",
      "metadata": {
        "id": "vPdYZ_xmRPgF"
      },
      "source": [
        "your answer here:"
      ]
    },
    {
      "cell_type": "markdown",
      "metadata": {
        "id": "yLGuNDA_OmlI"
      },
      "source": [
        "### **Exercise 10:** Select one data sample and flatten it. What is the size of the flattened image and why?"
      ]
    },
    {
      "cell_type": "code",
      "execution_count": 65,
      "metadata": {
        "id": "-3Qn0NusO_O1",
        "outputId": "7c091647-3318-4f62-e753-ccd36a78f1e2",
        "colab": {
          "base_uri": "https://localhost:8080/"
        }
      },
      "outputs": [
        {
          "output_type": "execute_result",
          "data": {
            "text/plain": [
              "(10000, 28, 28)"
            ]
          },
          "metadata": {},
          "execution_count": 65
        }
      ],
      "source": [
        "## your code here\n",
        "\n",
        "x_test.shape\n"
      ]
    },
    {
      "cell_type": "markdown",
      "metadata": {
        "id": "q-5Chwg8PXEt"
      },
      "source": [
        "### **Excercise 11:** Flatten the images in Train and Test Datasets so that each image is a 1D array"
      ]
    },
    {
      "cell_type": "code",
      "execution_count": null,
      "metadata": {
        "id": "dZqqdh6IOvHz"
      },
      "outputs": [],
      "source": [
        "##your code here"
      ]
    },
    {
      "cell_type": "markdown",
      "metadata": {
        "id": "CBipWh0H-UFd"
      },
      "source": [
        "### **Excercise 12:** Implement Logistic Regression on MNIST dataset using scikit-learn. What is the accuracy of your model?"
      ]
    },
    {
      "cell_type": "code",
      "execution_count": null,
      "metadata": {
        "id": "LH-OmL8y-UFd"
      },
      "outputs": [],
      "source": [
        "#your code here"
      ]
    }
  ],
  "metadata": {
    "colab": {
      "provenance": [],
      "toc_visible": true
    },
    "kernelspec": {
      "display_name": "Python 3",
      "name": "python3"
    },
    "language_info": {
      "name": "python",
      "version": "3.13.1"
    }
  },
  "nbformat": 4,
  "nbformat_minor": 0
}